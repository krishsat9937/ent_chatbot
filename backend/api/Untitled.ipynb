{
 "cells": [
  {
   "cell_type": "code",
   "execution_count": 1,
   "id": "c40f1dfb-920a-40fa-bf8d-aacd41e350a3",
   "metadata": {},
   "outputs": [],
   "source": [
    "import json\n",
    "\n",
    "with open('ent_drug_data.json') as f:\n",
    "    d = json.load(f)"
   ]
  },
  {
   "cell_type": "code",
   "execution_count": 2,
   "id": "ff0f09ec-ba7c-4691-a6af-8547bcf3c00c",
   "metadata": {},
   "outputs": [
    {
     "data": {
      "text/plain": [
       "dict_keys(['Acoustic Neuroma', 'Adenoiditis', 'Allergic Rhinitis', 'Eustachian Tube Dysfunction', 'Otosclerosis', 'Hyperacusis', \"Otitis Externa (Swimmer's Ear)\", 'Cholesteatoma', 'Labyrinthitis', 'Mastoiditis', 'Tinnitus', 'Acute Otitis Media', 'Otitis Media with Effusion', 'Chronic Otitis Media', 'Tympanic Membrane Perforation', 'Ménière’s Disease', 'Benign Paroxysmal Positional Vertigo (BPPV)', 'Acoustic Neuroma (Vestibular Schwannoma)', 'Sudden Sensorineural Hearing Loss', 'Presbycusis (Age-related Hearing Loss)', 'Autoimmune Inner Ear Disease', 'Ear Barotrauma', 'Ramsay Hunt Syndrome'])"
      ]
     },
     "execution_count": 2,
     "metadata": {},
     "output_type": "execute_result"
    }
   ],
   "source": [
    "d.keys()"
   ]
  },
  {
   "cell_type": "code",
   "execution_count": 4,
   "id": "6c941ce9-3611-4e30-8ade-708e3ede97b7",
   "metadata": {},
   "outputs": [
    {
     "data": {
      "text/plain": [
       "dict_keys(['BEVACIZUMAB', 'PANTOPRAZOLE', 'BOTULINUM TOXIN TYPE A', 'BRIGATINIB', 'ELTROMBOPAG OLAMINE', 'ACYCLOVIR', 'ASPIRIN', 'ASPIRIN 325 MG', 'ASPIRIN 81 MG', 'DEXAMETHASONE', 'DEXAMETHASONE 1.5 MG', 'GADODIAMIDE', 'GADOBENATE DIMEGLUMINE', 'GADOBUTROL', 'LEVETIRACETAM', 'WARFARIN', 'APREMILAST', 'CALCIUM CARBONATE', 'CYCLOSPORINE', 'DUPILUMAB', 'ESTRADIOL', 'EVEROLIMUS', 'EVEROLIMUS TABLETS', 'LANSOPRAZOLE', 'LOSARTAN', 'METHOTREXATE', 'METHOTREXATE SODIUM', 'ONABOTULINUMTOXINA', 'SECUKINUMAB', 'SULFAMETHOXAZOLE AND TRIMETHOPRIM', 'ACETAZOLAMIDE', 'ACETAZOLAMIDE SODIUM', 'ACETYLCYSTEINE', 'ADENOSINE', 'ALPRAZOLAM', 'BISOPROLOL FUMARATE', 'CARBOXYMETHYLCELLULOSE SODIUM', 'CARVEDILOL', 'CEPHALEXIN', 'CETIRIZINE HYDROCHLORIDE', 'CLOBAZAM', 'DENOSUMAB', 'DESOGESTREL AND ETHINYL ESTRADIOL AND ETHINYL ESTRADIOL', 'DIAZEPAM', 'DIAZEPAM ORAL', 'DIAZEPAM ORAL SOLUTION (CONCENTRATE)', 'DULOXETINE', 'DULOXETINE HYDROCHLORIDE', 'ERGOCALCIFEROL', 'ESCITALOPRAM', 'ESTRADIOL GEL 0.1%', 'ESTRADIOL TRANSDERMAL', 'ESTRADIOL,', 'FAMOTIDINE', 'FENTANYL', 'FISH OIL', 'FOLLICULINUM, OOPHORINUM', 'FOLLICULINUM, OOPHORINUM (SUIS)', 'FOLLICULINUM, OOPHORINUM,', 'GABAPENTIN', 'GADOTERATE MEGLUMINE', 'GADOTERIDOL', 'IPILIMUMAB', 'IRBESARTAN', 'ISOTRETINOIN', 'LENALIDOMIDE', 'LEVETIRACETAM IN SODIUM CHLORIDE', 'LEVETIRACETAM INJECTION', 'LEVETIRACETAM ORAL', 'LEVOTHYROXINE', 'LISINOPRIL', 'LORAZEPAM', 'LOSARTAN POTASSIUM', 'MECLIZINE', 'MECLIZINE HCL 12.5 MG', 'MECLIZINE HCL 12.5MG', 'MECLIZINE HCL 25MG', 'MECLIZINE HYDROCHLORIDE', 'MELOXICAM', 'MEPOLIZUMAB', 'METOPROLOL', 'METOPROLOL TARTRATE', 'MIFEPRISTONE', 'MINERAL OIL AND WHITE PETROLATUM', 'NITROGLYCERIN', 'PANTOPRAZOLE SODIUM', 'PEMBROLIZUMAB', 'POLYETHYLENE GLYCOL 3350', 'PRECIPITATED CALCIUM CARBONATE', 'PREDNISONE', 'PROCHLORPERAZINE', 'PROPOFOL', 'REMIFENTANIL HYDROCHLORIDE', 'SELUMETINIB', 'SENNA', 'SENNA LEAF', 'SENNOSIDES', 'SENNOSIDES 8.6 MG TABLETS', 'SERTRALINE', 'SERTRALINE HYDROCHLORIDE'])"
      ]
     },
     "execution_count": 4,
     "metadata": {},
     "output_type": "execute_result"
    }
   ],
   "source": [
    "d['Acoustic Neuroma'].keys()"
   ]
  },
  {
   "cell_type": "code",
   "execution_count": 6,
   "id": "263a254f-a451-4ecc-8566-c18e1c895202",
   "metadata": {},
   "outputs": [
    {
     "data": {
      "text/plain": [
       "dict_keys(['indications_and_usage', 'dosage_and_administration', 'dosage_forms_and_strengths', 'contraindications', 'warnings_and_cautions', 'adverse_reactions', 'drug_interactions', 'use_in_specific_populations', 'drug_abuse_and_dependence', 'overdosage', 'description', 'clinical_pharmacology', 'clinical_studies', 'how_supplied'])"
      ]
     },
     "execution_count": 6,
     "metadata": {},
     "output_type": "execute_result"
    }
   ],
   "source": [
    "d['Acoustic Neuroma']['BEVACIZUMAB'].keys()"
   ]
  },
  {
   "cell_type": "code",
   "execution_count": 7,
   "id": "1053c83b-2f3f-414e-9769-d44d2350ba46",
   "metadata": {},
   "outputs": [
    {
     "name": "stdout",
     "output_type": "stream",
     "text": [
      "✅ TGT acquired.\n"
     ]
    },
    {
     "ename": "KeyError",
     "evalue": "'result'",
     "output_type": "error",
     "traceback": [
      "\u001b[0;31m---------------------------------------------------------------------------\u001b[0m",
      "\u001b[0;31mKeyError\u001b[0m                                  Traceback (most recent call last)",
      "Cell \u001b[0;32mIn[7], line 101\u001b[0m\n\u001b[1;32m     98\u001b[0m         \u001b[38;5;28mprint\u001b[39m(\u001b[38;5;124m\"\u001b[39m\u001b[38;5;124mNo drugs found for this class.\u001b[39m\u001b[38;5;124m\"\u001b[39m)\n\u001b[1;32m    100\u001b[0m \u001b[38;5;28;01mif\u001b[39;00m \u001b[38;5;18m__name__\u001b[39m \u001b[38;5;241m==\u001b[39m \u001b[38;5;124m\"\u001b[39m\u001b[38;5;124m__main__\u001b[39m\u001b[38;5;124m\"\u001b[39m:\n\u001b[0;32m--> 101\u001b[0m     \u001b[43mmain\u001b[49m\u001b[43m(\u001b[49m\u001b[43m)\u001b[49m\n",
      "Cell \u001b[0;32mIn[7], line 77\u001b[0m, in \u001b[0;36mmain\u001b[0;34m()\u001b[0m\n\u001b[1;32m     74\u001b[0m cui \u001b[38;5;241m=\u001b[39m get_cui(disease, st1)\n\u001b[1;32m     76\u001b[0m st2 \u001b[38;5;241m=\u001b[39m get_st(tgt)\n\u001b[0;32m---> 77\u001b[0m snomed_code \u001b[38;5;241m=\u001b[39m \u001b[43mget_snomed_code\u001b[49m\u001b[43m(\u001b[49m\u001b[43mcui\u001b[49m\u001b[43m,\u001b[49m\u001b[43m \u001b[49m\u001b[43mst2\u001b[49m\u001b[43m)\u001b[49m\n\u001b[1;32m     79\u001b[0m \u001b[38;5;28;01mif\u001b[39;00m \u001b[38;5;129;01mnot\u001b[39;00m snomed_code:\n\u001b[1;32m     80\u001b[0m     \u001b[38;5;28mprint\u001b[39m(\u001b[38;5;124m\"\u001b[39m\u001b[38;5;124mSNOMED CT code not found.\u001b[39m\u001b[38;5;124m\"\u001b[39m)\n",
      "Cell \u001b[0;32mIn[7], line 40\u001b[0m, in \u001b[0;36mget_snomed_code\u001b[0;34m(cui, st)\u001b[0m\n\u001b[1;32m     38\u001b[0m url \u001b[38;5;241m=\u001b[39m \u001b[38;5;124mf\u001b[39m\u001b[38;5;124m\"\u001b[39m\u001b[38;5;124mhttps://uts-ws.nlm.nih.gov/rest/content/current/CUI/\u001b[39m\u001b[38;5;132;01m{\u001b[39;00mcui\u001b[38;5;132;01m}\u001b[39;00m\u001b[38;5;124m/codes?ticket=\u001b[39m\u001b[38;5;132;01m{\u001b[39;00mst\u001b[38;5;132;01m}\u001b[39;00m\u001b[38;5;124m\"\u001b[39m\n\u001b[1;32m     39\u001b[0m resp \u001b[38;5;241m=\u001b[39m requests\u001b[38;5;241m.\u001b[39mget(url)\n\u001b[0;32m---> 40\u001b[0m \u001b[38;5;28;01mfor\u001b[39;00m code \u001b[38;5;129;01min\u001b[39;00m \u001b[43mresp\u001b[49m\u001b[38;5;241;43m.\u001b[39;49m\u001b[43mjson\u001b[49m\u001b[43m(\u001b[49m\u001b[43m)\u001b[49m\u001b[43m[\u001b[49m\u001b[38;5;124;43m\"\u001b[39;49m\u001b[38;5;124;43mresult\u001b[39;49m\u001b[38;5;124;43m\"\u001b[39;49m\u001b[43m]\u001b[49m:\n\u001b[1;32m     41\u001b[0m     \u001b[38;5;28;01mif\u001b[39;00m code[\u001b[38;5;124m\"\u001b[39m\u001b[38;5;124mrootSource\u001b[39m\u001b[38;5;124m\"\u001b[39m]\u001b[38;5;241m.\u001b[39mstartswith(\u001b[38;5;124m\"\u001b[39m\u001b[38;5;124mSNOMEDCT\u001b[39m\u001b[38;5;124m\"\u001b[39m):\n\u001b[1;32m     42\u001b[0m         \u001b[38;5;28mprint\u001b[39m(\u001b[38;5;124mf\u001b[39m\u001b[38;5;124m\"\u001b[39m\u001b[38;5;124m🔗 Found SNOMED CT Code: \u001b[39m\u001b[38;5;132;01m{\u001b[39;00mcode[\u001b[38;5;124m'\u001b[39m\u001b[38;5;124mcode\u001b[39m\u001b[38;5;124m'\u001b[39m]\u001b[38;5;132;01m}\u001b[39;00m\u001b[38;5;124m\"\u001b[39m)\n",
      "\u001b[0;31mKeyError\u001b[0m: 'result'"
     ]
    }
   ],
   "source": [
    "import requests\n",
    "from urllib.parse import quote\n",
    "\n",
    "# 🔐 Step 1: Get Ticket Granting Ticket (TGT)\n",
    "def get_tgt(api_key):\n",
    "    url = \"https://utslogin.nlm.nih.gov/cas/v1/api-key\"\n",
    "    data = {\"apikey\": api_key}\n",
    "    resp = requests.post(url, data=data)\n",
    "    if resp.status_code == 201:\n",
    "        tgt = resp.headers[\"location\"].split(\"/\")[-1]\n",
    "        print(\"✅ TGT acquired.\")\n",
    "        return tgt\n",
    "    raise Exception(\"Failed to get TGT: \" + resp.text)\n",
    "\n",
    "# 🔑 Step 2: Get Single Use Ticket (ST)\n",
    "def get_st(tgt):\n",
    "    service = \"http://umlsks.nlm.nih.gov\"\n",
    "    url = f\"https://utslogin.nlm.nih.gov/cas/v1/api-key/{tgt}\"\n",
    "    data = {\"service\": service}\n",
    "    resp = requests.post(url, data=data)\n",
    "    if resp.status_code == 200:\n",
    "        return resp.text\n",
    "    raise Exception(\"Failed to get ST: \" + resp.text)\n",
    "\n",
    "# 🔍 Step 3: Get UMLS CUI for disease name\n",
    "def get_cui(disease_name, st):\n",
    "    url = f\"https://uts-ws.nlm.nih.gov/rest/search/current?string={quote(disease_name)}&ticket={st}\"\n",
    "    resp = requests.get(url)\n",
    "    results = resp.json()[\"result\"][\"results\"]\n",
    "    for item in results:\n",
    "        if item[\"rootSource\"] == \"MSH\":  # Optional: prioritize MeSH\n",
    "            print(f\"🧠 Found CUI: {item['ui']} for {disease_name}\")\n",
    "            return item[\"ui\"]\n",
    "    return results[0][\"ui\"]\n",
    "\n",
    "# 🔄 Step 4: Map UMLS CUI to SNOMED CT\n",
    "def get_snomed_code(cui, st):\n",
    "    url = f\"https://uts-ws.nlm.nih.gov/rest/content/current/CUI/{cui}/codes?ticket={st}\"\n",
    "    resp = requests.get(url)\n",
    "    for code in resp.json()[\"result\"]:\n",
    "        if code[\"rootSource\"].startswith(\"SNOMEDCT\"):\n",
    "            print(f\"🔗 Found SNOMED CT Code: {code['code']}\")\n",
    "            return code[\"code\"]\n",
    "    return None\n",
    "\n",
    "# 💊 Step 5: Use SNOMED CT to fetch RxClass drug classes\n",
    "def get_rxclass_drug_classes(snomed_code):\n",
    "    url = f\"https://rxnav.nlm.nih.gov/REST/rxclass/class/byDisease?diseaseId={snomed_code}&diseaseSource=SNOMEDCT&relDirection=destination\"\n",
    "    resp = requests.get(url)\n",
    "    data = resp.json()\n",
    "    classes = data.get(\"rxclassDrugInfoList\", {}).get(\"rxclassDrugInfo\", [])\n",
    "    results = []\n",
    "    for cls in classes:\n",
    "        name = cls[\"rxclassMinConceptItem\"][\"className\"]\n",
    "        class_id = cls[\"rxclassMinConceptItem\"][\"classId\"]\n",
    "        results.append((class_id, name))\n",
    "    print(f\"💊 Found {len(results)} drug classes.\")\n",
    "    return results\n",
    "\n",
    "# 🧪 Step 6: Get drugs for a drug class\n",
    "def get_drugs_for_class(class_id):\n",
    "    url = f\"https://rxnav.nlm.nih.gov/REST/rxclass/drugs.json?classId={class_id}&relaSource=ATC\"\n",
    "    resp = requests.get(url)\n",
    "    drugs = resp.json().get(\"rxclassDrugInfoList\", {}).get(\"rxclassDrugInfo\", [])\n",
    "    return [d[\"minConcept\"][\"name\"] for d in drugs]\n",
    "\n",
    "# 🚀 Main driver\n",
    "def main():\n",
    "    api_key = \"539b225d-6d95-4e0b-a551-a459f7ce473d\"  # Your UMLS API key\n",
    "    disease = \"Adenoiditis\"\n",
    "\n",
    "    tgt = get_tgt(api_key)\n",
    "    st1 = get_st(tgt)\n",
    "    cui = get_cui(disease, st1)\n",
    "\n",
    "    st2 = get_st(tgt)\n",
    "    snomed_code = get_snomed_code(cui, st2)\n",
    "\n",
    "    if not snomed_code:\n",
    "        print(\"SNOMED CT code not found.\")\n",
    "        return\n",
    "\n",
    "    classes = get_rxclass_drug_classes(snomed_code)\n",
    "    if not classes:\n",
    "        print(\"No drug classes found.\")\n",
    "        return\n",
    "\n",
    "    # Show first drug class and fetch drugs for it\n",
    "    class_id, class_name = classes[0]\n",
    "    print(f\"🔍 Searching drugs for class: {class_name}\")\n",
    "    drugs = get_drugs_for_class(class_id)\n",
    "\n",
    "    if drugs:\n",
    "        print(\"🧾 Drugs found:\")\n",
    "        for drug in drugs:\n",
    "            print(\" -\", drug)\n",
    "    else:\n",
    "        print(\"No drugs found for this class.\")\n",
    "\n",
    "if __name__ == \"__main__\":\n",
    "    main()\n"
   ]
  },
  {
   "cell_type": "code",
   "execution_count": null,
   "id": "bdb6fc81-960f-4e12-af43-8f165168de52",
   "metadata": {},
   "outputs": [],
   "source": []
  }
 ],
 "metadata": {
  "kernelspec": {
   "display_name": "Python 3 (ipykernel)",
   "language": "python",
   "name": "python3"
  },
  "language_info": {
   "codemirror_mode": {
    "name": "ipython",
    "version": 3
   },
   "file_extension": ".py",
   "mimetype": "text/x-python",
   "name": "python",
   "nbconvert_exporter": "python",
   "pygments_lexer": "ipython3",
   "version": "3.10.14"
  }
 },
 "nbformat": 4,
 "nbformat_minor": 5
}
