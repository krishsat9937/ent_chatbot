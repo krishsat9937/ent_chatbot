{
  "nbformat": 4,
  "nbformat_minor": 0,
  "metadata": {
    "colab": {
      "provenance": []
    },
    "kernelspec": {
      "name": "python3",
      "display_name": "Python 3"
    },
    "language_info": {
      "name": "python"
    },
    "widgets": {
      "application/vnd.jupyter.widget-state+json": {
        "78d2dd6498fb4e2da3bb7c8e5caed3b3": {
          "model_module": "@jupyter-widgets/controls",
          "model_name": "HBoxModel",
          "model_module_version": "1.5.0",
          "state": {
            "_dom_classes": [],
            "_model_module": "@jupyter-widgets/controls",
            "_model_module_version": "1.5.0",
            "_model_name": "HBoxModel",
            "_view_count": null,
            "_view_module": "@jupyter-widgets/controls",
            "_view_module_version": "1.5.0",
            "_view_name": "HBoxView",
            "box_style": "",
            "children": [
              "IPY_MODEL_fbe56860c3c54a87b0fd5f82f2c295c0",
              "IPY_MODEL_6206cbe7b7184eca85ba36e739058c8c",
              "IPY_MODEL_8205e49462eb46aa84fe5ae0a5dfc440"
            ],
            "layout": "IPY_MODEL_0227b991ed3a446da12f2d2990fd09e4"
          }
        },
        "fbe56860c3c54a87b0fd5f82f2c295c0": {
          "model_module": "@jupyter-widgets/controls",
          "model_name": "HTMLModel",
          "model_module_version": "1.5.0",
          "state": {
            "_dom_classes": [],
            "_model_module": "@jupyter-widgets/controls",
            "_model_module_version": "1.5.0",
            "_model_name": "HTMLModel",
            "_view_count": null,
            "_view_module": "@jupyter-widgets/controls",
            "_view_module_version": "1.5.0",
            "_view_name": "HTMLView",
            "description": "",
            "description_tooltip": null,
            "layout": "IPY_MODEL_5391378166cb4e5389020d9163d9f01f",
            "placeholder": "​",
            "style": "IPY_MODEL_e500bed1043c497a9954cdd172297d9c",
            "value": "vocab.txt: 100%"
          }
        },
        "6206cbe7b7184eca85ba36e739058c8c": {
          "model_module": "@jupyter-widgets/controls",
          "model_name": "FloatProgressModel",
          "model_module_version": "1.5.0",
          "state": {
            "_dom_classes": [],
            "_model_module": "@jupyter-widgets/controls",
            "_model_module_version": "1.5.0",
            "_model_name": "FloatProgressModel",
            "_view_count": null,
            "_view_module": "@jupyter-widgets/controls",
            "_view_module_version": "1.5.0",
            "_view_name": "ProgressView",
            "bar_style": "success",
            "description": "",
            "description_tooltip": null,
            "layout": "IPY_MODEL_32880c4274d04d7c85b4c5f0746b239b",
            "max": 213450,
            "min": 0,
            "orientation": "horizontal",
            "style": "IPY_MODEL_206d88d7ba4c49e98abe99d18138bfb9",
            "value": 213450
          }
        },
        "8205e49462eb46aa84fe5ae0a5dfc440": {
          "model_module": "@jupyter-widgets/controls",
          "model_name": "HTMLModel",
          "model_module_version": "1.5.0",
          "state": {
            "_dom_classes": [],
            "_model_module": "@jupyter-widgets/controls",
            "_model_module_version": "1.5.0",
            "_model_name": "HTMLModel",
            "_view_count": null,
            "_view_module": "@jupyter-widgets/controls",
            "_view_module_version": "1.5.0",
            "_view_name": "HTMLView",
            "description": "",
            "description_tooltip": null,
            "layout": "IPY_MODEL_f0369231eeee4135a42032a4e74999c4",
            "placeholder": "​",
            "style": "IPY_MODEL_6e14e02cc9144b2ba79aabd3db1fd830",
            "value": " 213k/213k [00:00&lt;00:00, 1.15MB/s]"
          }
        },
        "0227b991ed3a446da12f2d2990fd09e4": {
          "model_module": "@jupyter-widgets/base",
          "model_name": "LayoutModel",
          "model_module_version": "1.2.0",
          "state": {
            "_model_module": "@jupyter-widgets/base",
            "_model_module_version": "1.2.0",
            "_model_name": "LayoutModel",
            "_view_count": null,
            "_view_module": "@jupyter-widgets/base",
            "_view_module_version": "1.2.0",
            "_view_name": "LayoutView",
            "align_content": null,
            "align_items": null,
            "align_self": null,
            "border": null,
            "bottom": null,
            "display": null,
            "flex": null,
            "flex_flow": null,
            "grid_area": null,
            "grid_auto_columns": null,
            "grid_auto_flow": null,
            "grid_auto_rows": null,
            "grid_column": null,
            "grid_gap": null,
            "grid_row": null,
            "grid_template_areas": null,
            "grid_template_columns": null,
            "grid_template_rows": null,
            "height": null,
            "justify_content": null,
            "justify_items": null,
            "left": null,
            "margin": null,
            "max_height": null,
            "max_width": null,
            "min_height": null,
            "min_width": null,
            "object_fit": null,
            "object_position": null,
            "order": null,
            "overflow": null,
            "overflow_x": null,
            "overflow_y": null,
            "padding": null,
            "right": null,
            "top": null,
            "visibility": null,
            "width": null
          }
        },
        "5391378166cb4e5389020d9163d9f01f": {
          "model_module": "@jupyter-widgets/base",
          "model_name": "LayoutModel",
          "model_module_version": "1.2.0",
          "state": {
            "_model_module": "@jupyter-widgets/base",
            "_model_module_version": "1.2.0",
            "_model_name": "LayoutModel",
            "_view_count": null,
            "_view_module": "@jupyter-widgets/base",
            "_view_module_version": "1.2.0",
            "_view_name": "LayoutView",
            "align_content": null,
            "align_items": null,
            "align_self": null,
            "border": null,
            "bottom": null,
            "display": null,
            "flex": null,
            "flex_flow": null,
            "grid_area": null,
            "grid_auto_columns": null,
            "grid_auto_flow": null,
            "grid_auto_rows": null,
            "grid_column": null,
            "grid_gap": null,
            "grid_row": null,
            "grid_template_areas": null,
            "grid_template_columns": null,
            "grid_template_rows": null,
            "height": null,
            "justify_content": null,
            "justify_items": null,
            "left": null,
            "margin": null,
            "max_height": null,
            "max_width": null,
            "min_height": null,
            "min_width": null,
            "object_fit": null,
            "object_position": null,
            "order": null,
            "overflow": null,
            "overflow_x": null,
            "overflow_y": null,
            "padding": null,
            "right": null,
            "top": null,
            "visibility": null,
            "width": null
          }
        },
        "e500bed1043c497a9954cdd172297d9c": {
          "model_module": "@jupyter-widgets/controls",
          "model_name": "DescriptionStyleModel",
          "model_module_version": "1.5.0",
          "state": {
            "_model_module": "@jupyter-widgets/controls",
            "_model_module_version": "1.5.0",
            "_model_name": "DescriptionStyleModel",
            "_view_count": null,
            "_view_module": "@jupyter-widgets/base",
            "_view_module_version": "1.2.0",
            "_view_name": "StyleView",
            "description_width": ""
          }
        },
        "32880c4274d04d7c85b4c5f0746b239b": {
          "model_module": "@jupyter-widgets/base",
          "model_name": "LayoutModel",
          "model_module_version": "1.2.0",
          "state": {
            "_model_module": "@jupyter-widgets/base",
            "_model_module_version": "1.2.0",
            "_model_name": "LayoutModel",
            "_view_count": null,
            "_view_module": "@jupyter-widgets/base",
            "_view_module_version": "1.2.0",
            "_view_name": "LayoutView",
            "align_content": null,
            "align_items": null,
            "align_self": null,
            "border": null,
            "bottom": null,
            "display": null,
            "flex": null,
            "flex_flow": null,
            "grid_area": null,
            "grid_auto_columns": null,
            "grid_auto_flow": null,
            "grid_auto_rows": null,
            "grid_column": null,
            "grid_gap": null,
            "grid_row": null,
            "grid_template_areas": null,
            "grid_template_columns": null,
            "grid_template_rows": null,
            "height": null,
            "justify_content": null,
            "justify_items": null,
            "left": null,
            "margin": null,
            "max_height": null,
            "max_width": null,
            "min_height": null,
            "min_width": null,
            "object_fit": null,
            "object_position": null,
            "order": null,
            "overflow": null,
            "overflow_x": null,
            "overflow_y": null,
            "padding": null,
            "right": null,
            "top": null,
            "visibility": null,
            "width": null
          }
        },
        "206d88d7ba4c49e98abe99d18138bfb9": {
          "model_module": "@jupyter-widgets/controls",
          "model_name": "ProgressStyleModel",
          "model_module_version": "1.5.0",
          "state": {
            "_model_module": "@jupyter-widgets/controls",
            "_model_module_version": "1.5.0",
            "_model_name": "ProgressStyleModel",
            "_view_count": null,
            "_view_module": "@jupyter-widgets/base",
            "_view_module_version": "1.2.0",
            "_view_name": "StyleView",
            "bar_color": null,
            "description_width": ""
          }
        },
        "f0369231eeee4135a42032a4e74999c4": {
          "model_module": "@jupyter-widgets/base",
          "model_name": "LayoutModel",
          "model_module_version": "1.2.0",
          "state": {
            "_model_module": "@jupyter-widgets/base",
            "_model_module_version": "1.2.0",
            "_model_name": "LayoutModel",
            "_view_count": null,
            "_view_module": "@jupyter-widgets/base",
            "_view_module_version": "1.2.0",
            "_view_name": "LayoutView",
            "align_content": null,
            "align_items": null,
            "align_self": null,
            "border": null,
            "bottom": null,
            "display": null,
            "flex": null,
            "flex_flow": null,
            "grid_area": null,
            "grid_auto_columns": null,
            "grid_auto_flow": null,
            "grid_auto_rows": null,
            "grid_column": null,
            "grid_gap": null,
            "grid_row": null,
            "grid_template_areas": null,
            "grid_template_columns": null,
            "grid_template_rows": null,
            "height": null,
            "justify_content": null,
            "justify_items": null,
            "left": null,
            "margin": null,
            "max_height": null,
            "max_width": null,
            "min_height": null,
            "min_width": null,
            "object_fit": null,
            "object_position": null,
            "order": null,
            "overflow": null,
            "overflow_x": null,
            "overflow_y": null,
            "padding": null,
            "right": null,
            "top": null,
            "visibility": null,
            "width": null
          }
        },
        "6e14e02cc9144b2ba79aabd3db1fd830": {
          "model_module": "@jupyter-widgets/controls",
          "model_name": "DescriptionStyleModel",
          "model_module_version": "1.5.0",
          "state": {
            "_model_module": "@jupyter-widgets/controls",
            "_model_module_version": "1.5.0",
            "_model_name": "DescriptionStyleModel",
            "_view_count": null,
            "_view_module": "@jupyter-widgets/base",
            "_view_module_version": "1.2.0",
            "_view_name": "StyleView",
            "description_width": ""
          }
        },
        "fb2fb4f5181f4f9a952dad71c6598a50": {
          "model_module": "@jupyter-widgets/controls",
          "model_name": "HBoxModel",
          "model_module_version": "1.5.0",
          "state": {
            "_dom_classes": [],
            "_model_module": "@jupyter-widgets/controls",
            "_model_module_version": "1.5.0",
            "_model_name": "HBoxModel",
            "_view_count": null,
            "_view_module": "@jupyter-widgets/controls",
            "_view_module_version": "1.5.0",
            "_view_name": "HBoxView",
            "box_style": "",
            "children": [
              "IPY_MODEL_d3db1b5ae07e42a2aea407d8b15bb710",
              "IPY_MODEL_030f6693efb1441c9dd79851442d0ac9",
              "IPY_MODEL_b102fc24c7a34957867d3c6ec15a9fb0"
            ],
            "layout": "IPY_MODEL_a554063b6f0344229ab43de871aba6e6"
          }
        },
        "d3db1b5ae07e42a2aea407d8b15bb710": {
          "model_module": "@jupyter-widgets/controls",
          "model_name": "HTMLModel",
          "model_module_version": "1.5.0",
          "state": {
            "_dom_classes": [],
            "_model_module": "@jupyter-widgets/controls",
            "_model_module_version": "1.5.0",
            "_model_name": "HTMLModel",
            "_view_count": null,
            "_view_module": "@jupyter-widgets/controls",
            "_view_module_version": "1.5.0",
            "_view_name": "HTMLView",
            "description": "",
            "description_tooltip": null,
            "layout": "IPY_MODEL_ce1efa886d2b46c0948ee5688d227a8b",
            "placeholder": "​",
            "style": "IPY_MODEL_e187906f53e34c7193d73e023b8c366a",
            "value": "config.json: 100%"
          }
        },
        "030f6693efb1441c9dd79851442d0ac9": {
          "model_module": "@jupyter-widgets/controls",
          "model_name": "FloatProgressModel",
          "model_module_version": "1.5.0",
          "state": {
            "_dom_classes": [],
            "_model_module": "@jupyter-widgets/controls",
            "_model_module_version": "1.5.0",
            "_model_name": "FloatProgressModel",
            "_view_count": null,
            "_view_module": "@jupyter-widgets/controls",
            "_view_module_version": "1.5.0",
            "_view_name": "ProgressView",
            "bar_style": "success",
            "description": "",
            "description_tooltip": null,
            "layout": "IPY_MODEL_29eb5ac35e0945afa759fc9083a5303d",
            "max": 385,
            "min": 0,
            "orientation": "horizontal",
            "style": "IPY_MODEL_b0006de65505416fa508a73a1c959301",
            "value": 385
          }
        },
        "b102fc24c7a34957867d3c6ec15a9fb0": {
          "model_module": "@jupyter-widgets/controls",
          "model_name": "HTMLModel",
          "model_module_version": "1.5.0",
          "state": {
            "_dom_classes": [],
            "_model_module": "@jupyter-widgets/controls",
            "_model_module_version": "1.5.0",
            "_model_name": "HTMLModel",
            "_view_count": null,
            "_view_module": "@jupyter-widgets/controls",
            "_view_module_version": "1.5.0",
            "_view_name": "HTMLView",
            "description": "",
            "description_tooltip": null,
            "layout": "IPY_MODEL_7f5605797e2e411fbd2deb4f6659a6df",
            "placeholder": "​",
            "style": "IPY_MODEL_82a8e1af3705440b8d305cdef8a8f657",
            "value": " 385/385 [00:00&lt;00:00, 12.1kB/s]"
          }
        },
        "a554063b6f0344229ab43de871aba6e6": {
          "model_module": "@jupyter-widgets/base",
          "model_name": "LayoutModel",
          "model_module_version": "1.2.0",
          "state": {
            "_model_module": "@jupyter-widgets/base",
            "_model_module_version": "1.2.0",
            "_model_name": "LayoutModel",
            "_view_count": null,
            "_view_module": "@jupyter-widgets/base",
            "_view_module_version": "1.2.0",
            "_view_name": "LayoutView",
            "align_content": null,
            "align_items": null,
            "align_self": null,
            "border": null,
            "bottom": null,
            "display": null,
            "flex": null,
            "flex_flow": null,
            "grid_area": null,
            "grid_auto_columns": null,
            "grid_auto_flow": null,
            "grid_auto_rows": null,
            "grid_column": null,
            "grid_gap": null,
            "grid_row": null,
            "grid_template_areas": null,
            "grid_template_columns": null,
            "grid_template_rows": null,
            "height": null,
            "justify_content": null,
            "justify_items": null,
            "left": null,
            "margin": null,
            "max_height": null,
            "max_width": null,
            "min_height": null,
            "min_width": null,
            "object_fit": null,
            "object_position": null,
            "order": null,
            "overflow": null,
            "overflow_x": null,
            "overflow_y": null,
            "padding": null,
            "right": null,
            "top": null,
            "visibility": null,
            "width": null
          }
        },
        "ce1efa886d2b46c0948ee5688d227a8b": {
          "model_module": "@jupyter-widgets/base",
          "model_name": "LayoutModel",
          "model_module_version": "1.2.0",
          "state": {
            "_model_module": "@jupyter-widgets/base",
            "_model_module_version": "1.2.0",
            "_model_name": "LayoutModel",
            "_view_count": null,
            "_view_module": "@jupyter-widgets/base",
            "_view_module_version": "1.2.0",
            "_view_name": "LayoutView",
            "align_content": null,
            "align_items": null,
            "align_self": null,
            "border": null,
            "bottom": null,
            "display": null,
            "flex": null,
            "flex_flow": null,
            "grid_area": null,
            "grid_auto_columns": null,
            "grid_auto_flow": null,
            "grid_auto_rows": null,
            "grid_column": null,
            "grid_gap": null,
            "grid_row": null,
            "grid_template_areas": null,
            "grid_template_columns": null,
            "grid_template_rows": null,
            "height": null,
            "justify_content": null,
            "justify_items": null,
            "left": null,
            "margin": null,
            "max_height": null,
            "max_width": null,
            "min_height": null,
            "min_width": null,
            "object_fit": null,
            "object_position": null,
            "order": null,
            "overflow": null,
            "overflow_x": null,
            "overflow_y": null,
            "padding": null,
            "right": null,
            "top": null,
            "visibility": null,
            "width": null
          }
        },
        "e187906f53e34c7193d73e023b8c366a": {
          "model_module": "@jupyter-widgets/controls",
          "model_name": "DescriptionStyleModel",
          "model_module_version": "1.5.0",
          "state": {
            "_model_module": "@jupyter-widgets/controls",
            "_model_module_version": "1.5.0",
            "_model_name": "DescriptionStyleModel",
            "_view_count": null,
            "_view_module": "@jupyter-widgets/base",
            "_view_module_version": "1.2.0",
            "_view_name": "StyleView",
            "description_width": ""
          }
        },
        "29eb5ac35e0945afa759fc9083a5303d": {
          "model_module": "@jupyter-widgets/base",
          "model_name": "LayoutModel",
          "model_module_version": "1.2.0",
          "state": {
            "_model_module": "@jupyter-widgets/base",
            "_model_module_version": "1.2.0",
            "_model_name": "LayoutModel",
            "_view_count": null,
            "_view_module": "@jupyter-widgets/base",
            "_view_module_version": "1.2.0",
            "_view_name": "LayoutView",
            "align_content": null,
            "align_items": null,
            "align_self": null,
            "border": null,
            "bottom": null,
            "display": null,
            "flex": null,
            "flex_flow": null,
            "grid_area": null,
            "grid_auto_columns": null,
            "grid_auto_flow": null,
            "grid_auto_rows": null,
            "grid_column": null,
            "grid_gap": null,
            "grid_row": null,
            "grid_template_areas": null,
            "grid_template_columns": null,
            "grid_template_rows": null,
            "height": null,
            "justify_content": null,
            "justify_items": null,
            "left": null,
            "margin": null,
            "max_height": null,
            "max_width": null,
            "min_height": null,
            "min_width": null,
            "object_fit": null,
            "object_position": null,
            "order": null,
            "overflow": null,
            "overflow_x": null,
            "overflow_y": null,
            "padding": null,
            "right": null,
            "top": null,
            "visibility": null,
            "width": null
          }
        },
        "b0006de65505416fa508a73a1c959301": {
          "model_module": "@jupyter-widgets/controls",
          "model_name": "ProgressStyleModel",
          "model_module_version": "1.5.0",
          "state": {
            "_model_module": "@jupyter-widgets/controls",
            "_model_module_version": "1.5.0",
            "_model_name": "ProgressStyleModel",
            "_view_count": null,
            "_view_module": "@jupyter-widgets/base",
            "_view_module_version": "1.2.0",
            "_view_name": "StyleView",
            "bar_color": null,
            "description_width": ""
          }
        },
        "7f5605797e2e411fbd2deb4f6659a6df": {
          "model_module": "@jupyter-widgets/base",
          "model_name": "LayoutModel",
          "model_module_version": "1.2.0",
          "state": {
            "_model_module": "@jupyter-widgets/base",
            "_model_module_version": "1.2.0",
            "_model_name": "LayoutModel",
            "_view_count": null,
            "_view_module": "@jupyter-widgets/base",
            "_view_module_version": "1.2.0",
            "_view_name": "LayoutView",
            "align_content": null,
            "align_items": null,
            "align_self": null,
            "border": null,
            "bottom": null,
            "display": null,
            "flex": null,
            "flex_flow": null,
            "grid_area": null,
            "grid_auto_columns": null,
            "grid_auto_flow": null,
            "grid_auto_rows": null,
            "grid_column": null,
            "grid_gap": null,
            "grid_row": null,
            "grid_template_areas": null,
            "grid_template_columns": null,
            "grid_template_rows": null,
            "height": null,
            "justify_content": null,
            "justify_items": null,
            "left": null,
            "margin": null,
            "max_height": null,
            "max_width": null,
            "min_height": null,
            "min_width": null,
            "object_fit": null,
            "object_position": null,
            "order": null,
            "overflow": null,
            "overflow_x": null,
            "overflow_y": null,
            "padding": null,
            "right": null,
            "top": null,
            "visibility": null,
            "width": null
          }
        },
        "82a8e1af3705440b8d305cdef8a8f657": {
          "model_module": "@jupyter-widgets/controls",
          "model_name": "DescriptionStyleModel",
          "model_module_version": "1.5.0",
          "state": {
            "_model_module": "@jupyter-widgets/controls",
            "_model_module_version": "1.5.0",
            "_model_name": "DescriptionStyleModel",
            "_view_count": null,
            "_view_module": "@jupyter-widgets/base",
            "_view_module_version": "1.2.0",
            "_view_name": "StyleView",
            "description_width": ""
          }
        },
        "5aea5f4e60c64b53a7effbd27fd07293": {
          "model_module": "@jupyter-widgets/controls",
          "model_name": "HBoxModel",
          "model_module_version": "1.5.0",
          "state": {
            "_dom_classes": [],
            "_model_module": "@jupyter-widgets/controls",
            "_model_module_version": "1.5.0",
            "_model_name": "HBoxModel",
            "_view_count": null,
            "_view_module": "@jupyter-widgets/controls",
            "_view_module_version": "1.5.0",
            "_view_name": "HBoxView",
            "box_style": "",
            "children": [
              "IPY_MODEL_46b16409196949af9da92ef60444313e",
              "IPY_MODEL_79f4ef44d9224ab7bb55fddb7a176d0b",
              "IPY_MODEL_9b499889195f44fca911473941609f56"
            ],
            "layout": "IPY_MODEL_990c6cf752744cb3ac4526c69d985c66"
          }
        },
        "46b16409196949af9da92ef60444313e": {
          "model_module": "@jupyter-widgets/controls",
          "model_name": "HTMLModel",
          "model_module_version": "1.5.0",
          "state": {
            "_dom_classes": [],
            "_model_module": "@jupyter-widgets/controls",
            "_model_module_version": "1.5.0",
            "_model_name": "HTMLModel",
            "_view_count": null,
            "_view_module": "@jupyter-widgets/controls",
            "_view_module_version": "1.5.0",
            "_view_name": "HTMLView",
            "description": "",
            "description_tooltip": null,
            "layout": "IPY_MODEL_85e9993b71354246a06a463fb2ad2b64",
            "placeholder": "​",
            "style": "IPY_MODEL_96327eafe3d54d8eb19fa299faad8052",
            "value": "pytorch_model.bin: 100%"
          }
        },
        "79f4ef44d9224ab7bb55fddb7a176d0b": {
          "model_module": "@jupyter-widgets/controls",
          "model_name": "FloatProgressModel",
          "model_module_version": "1.5.0",
          "state": {
            "_dom_classes": [],
            "_model_module": "@jupyter-widgets/controls",
            "_model_module_version": "1.5.0",
            "_model_name": "FloatProgressModel",
            "_view_count": null,
            "_view_module": "@jupyter-widgets/controls",
            "_view_module_version": "1.5.0",
            "_view_name": "ProgressView",
            "bar_style": "success",
            "description": "",
            "description_tooltip": null,
            "layout": "IPY_MODEL_d0b015c2233b4ff29480c6f0253fc976",
            "max": 435778770,
            "min": 0,
            "orientation": "horizontal",
            "style": "IPY_MODEL_7e5f127826594ff1b2c95ee7f7f6fcb2",
            "value": 435778770
          }
        },
        "9b499889195f44fca911473941609f56": {
          "model_module": "@jupyter-widgets/controls",
          "model_name": "HTMLModel",
          "model_module_version": "1.5.0",
          "state": {
            "_dom_classes": [],
            "_model_module": "@jupyter-widgets/controls",
            "_model_module_version": "1.5.0",
            "_model_name": "HTMLModel",
            "_view_count": null,
            "_view_module": "@jupyter-widgets/controls",
            "_view_module_version": "1.5.0",
            "_view_name": "HTMLView",
            "description": "",
            "description_tooltip": null,
            "layout": "IPY_MODEL_32527500b5184bfba53c5c1a6f3b42b6",
            "placeholder": "​",
            "style": "IPY_MODEL_cf00225c429f406d8f5f1fbb0d5a8107",
            "value": " 436M/436M [00:03&lt;00:00, 149MB/s]"
          }
        },
        "990c6cf752744cb3ac4526c69d985c66": {
          "model_module": "@jupyter-widgets/base",
          "model_name": "LayoutModel",
          "model_module_version": "1.2.0",
          "state": {
            "_model_module": "@jupyter-widgets/base",
            "_model_module_version": "1.2.0",
            "_model_name": "LayoutModel",
            "_view_count": null,
            "_view_module": "@jupyter-widgets/base",
            "_view_module_version": "1.2.0",
            "_view_name": "LayoutView",
            "align_content": null,
            "align_items": null,
            "align_self": null,
            "border": null,
            "bottom": null,
            "display": null,
            "flex": null,
            "flex_flow": null,
            "grid_area": null,
            "grid_auto_columns": null,
            "grid_auto_flow": null,
            "grid_auto_rows": null,
            "grid_column": null,
            "grid_gap": null,
            "grid_row": null,
            "grid_template_areas": null,
            "grid_template_columns": null,
            "grid_template_rows": null,
            "height": null,
            "justify_content": null,
            "justify_items": null,
            "left": null,
            "margin": null,
            "max_height": null,
            "max_width": null,
            "min_height": null,
            "min_width": null,
            "object_fit": null,
            "object_position": null,
            "order": null,
            "overflow": null,
            "overflow_x": null,
            "overflow_y": null,
            "padding": null,
            "right": null,
            "top": null,
            "visibility": null,
            "width": null
          }
        },
        "85e9993b71354246a06a463fb2ad2b64": {
          "model_module": "@jupyter-widgets/base",
          "model_name": "LayoutModel",
          "model_module_version": "1.2.0",
          "state": {
            "_model_module": "@jupyter-widgets/base",
            "_model_module_version": "1.2.0",
            "_model_name": "LayoutModel",
            "_view_count": null,
            "_view_module": "@jupyter-widgets/base",
            "_view_module_version": "1.2.0",
            "_view_name": "LayoutView",
            "align_content": null,
            "align_items": null,
            "align_self": null,
            "border": null,
            "bottom": null,
            "display": null,
            "flex": null,
            "flex_flow": null,
            "grid_area": null,
            "grid_auto_columns": null,
            "grid_auto_flow": null,
            "grid_auto_rows": null,
            "grid_column": null,
            "grid_gap": null,
            "grid_row": null,
            "grid_template_areas": null,
            "grid_template_columns": null,
            "grid_template_rows": null,
            "height": null,
            "justify_content": null,
            "justify_items": null,
            "left": null,
            "margin": null,
            "max_height": null,
            "max_width": null,
            "min_height": null,
            "min_width": null,
            "object_fit": null,
            "object_position": null,
            "order": null,
            "overflow": null,
            "overflow_x": null,
            "overflow_y": null,
            "padding": null,
            "right": null,
            "top": null,
            "visibility": null,
            "width": null
          }
        },
        "96327eafe3d54d8eb19fa299faad8052": {
          "model_module": "@jupyter-widgets/controls",
          "model_name": "DescriptionStyleModel",
          "model_module_version": "1.5.0",
          "state": {
            "_model_module": "@jupyter-widgets/controls",
            "_model_module_version": "1.5.0",
            "_model_name": "DescriptionStyleModel",
            "_view_count": null,
            "_view_module": "@jupyter-widgets/base",
            "_view_module_version": "1.2.0",
            "_view_name": "StyleView",
            "description_width": ""
          }
        },
        "d0b015c2233b4ff29480c6f0253fc976": {
          "model_module": "@jupyter-widgets/base",
          "model_name": "LayoutModel",
          "model_module_version": "1.2.0",
          "state": {
            "_model_module": "@jupyter-widgets/base",
            "_model_module_version": "1.2.0",
            "_model_name": "LayoutModel",
            "_view_count": null,
            "_view_module": "@jupyter-widgets/base",
            "_view_module_version": "1.2.0",
            "_view_name": "LayoutView",
            "align_content": null,
            "align_items": null,
            "align_self": null,
            "border": null,
            "bottom": null,
            "display": null,
            "flex": null,
            "flex_flow": null,
            "grid_area": null,
            "grid_auto_columns": null,
            "grid_auto_flow": null,
            "grid_auto_rows": null,
            "grid_column": null,
            "grid_gap": null,
            "grid_row": null,
            "grid_template_areas": null,
            "grid_template_columns": null,
            "grid_template_rows": null,
            "height": null,
            "justify_content": null,
            "justify_items": null,
            "left": null,
            "margin": null,
            "max_height": null,
            "max_width": null,
            "min_height": null,
            "min_width": null,
            "object_fit": null,
            "object_position": null,
            "order": null,
            "overflow": null,
            "overflow_x": null,
            "overflow_y": null,
            "padding": null,
            "right": null,
            "top": null,
            "visibility": null,
            "width": null
          }
        },
        "7e5f127826594ff1b2c95ee7f7f6fcb2": {
          "model_module": "@jupyter-widgets/controls",
          "model_name": "ProgressStyleModel",
          "model_module_version": "1.5.0",
          "state": {
            "_model_module": "@jupyter-widgets/controls",
            "_model_module_version": "1.5.0",
            "_model_name": "ProgressStyleModel",
            "_view_count": null,
            "_view_module": "@jupyter-widgets/base",
            "_view_module_version": "1.2.0",
            "_view_name": "StyleView",
            "bar_color": null,
            "description_width": ""
          }
        },
        "32527500b5184bfba53c5c1a6f3b42b6": {
          "model_module": "@jupyter-widgets/base",
          "model_name": "LayoutModel",
          "model_module_version": "1.2.0",
          "state": {
            "_model_module": "@jupyter-widgets/base",
            "_model_module_version": "1.2.0",
            "_model_name": "LayoutModel",
            "_view_count": null,
            "_view_module": "@jupyter-widgets/base",
            "_view_module_version": "1.2.0",
            "_view_name": "LayoutView",
            "align_content": null,
            "align_items": null,
            "align_self": null,
            "border": null,
            "bottom": null,
            "display": null,
            "flex": null,
            "flex_flow": null,
            "grid_area": null,
            "grid_auto_columns": null,
            "grid_auto_flow": null,
            "grid_auto_rows": null,
            "grid_column": null,
            "grid_gap": null,
            "grid_row": null,
            "grid_template_areas": null,
            "grid_template_columns": null,
            "grid_template_rows": null,
            "height": null,
            "justify_content": null,
            "justify_items": null,
            "left": null,
            "margin": null,
            "max_height": null,
            "max_width": null,
            "min_height": null,
            "min_width": null,
            "object_fit": null,
            "object_position": null,
            "order": null,
            "overflow": null,
            "overflow_x": null,
            "overflow_y": null,
            "padding": null,
            "right": null,
            "top": null,
            "visibility": null,
            "width": null
          }
        },
        "cf00225c429f406d8f5f1fbb0d5a8107": {
          "model_module": "@jupyter-widgets/controls",
          "model_name": "DescriptionStyleModel",
          "model_module_version": "1.5.0",
          "state": {
            "_model_module": "@jupyter-widgets/controls",
            "_model_module_version": "1.5.0",
            "_model_name": "DescriptionStyleModel",
            "_view_count": null,
            "_view_module": "@jupyter-widgets/base",
            "_view_module_version": "1.2.0",
            "_view_name": "StyleView",
            "description_width": ""
          }
        },
        "9bfdb44e86a24704b4a0ff539a6fc4bc": {
          "model_module": "@jupyter-widgets/controls",
          "model_name": "HBoxModel",
          "model_module_version": "1.5.0",
          "state": {
            "_dom_classes": [],
            "_model_module": "@jupyter-widgets/controls",
            "_model_module_version": "1.5.0",
            "_model_name": "HBoxModel",
            "_view_count": null,
            "_view_module": "@jupyter-widgets/controls",
            "_view_module_version": "1.5.0",
            "_view_name": "HBoxView",
            "box_style": "",
            "children": [
              "IPY_MODEL_3e1111ae305343449ab4e1dd9f44876e",
              "IPY_MODEL_885898b596184e92ba77f16ce982e0e2",
              "IPY_MODEL_28430d34b8a94729b736fb730a7b7fde"
            ],
            "layout": "IPY_MODEL_fc7e310e04af439b83c0d8d08bb07692"
          }
        },
        "3e1111ae305343449ab4e1dd9f44876e": {
          "model_module": "@jupyter-widgets/controls",
          "model_name": "HTMLModel",
          "model_module_version": "1.5.0",
          "state": {
            "_dom_classes": [],
            "_model_module": "@jupyter-widgets/controls",
            "_model_module_version": "1.5.0",
            "_model_name": "HTMLModel",
            "_view_count": null,
            "_view_module": "@jupyter-widgets/controls",
            "_view_module_version": "1.5.0",
            "_view_name": "HTMLView",
            "description": "",
            "description_tooltip": null,
            "layout": "IPY_MODEL_ac134639a11943e5b7160ce20bbe32b8",
            "placeholder": "​",
            "style": "IPY_MODEL_97c9f7c52ec24885afc8f093255c8263",
            "value": "model.safetensors:  39%"
          }
        },
        "885898b596184e92ba77f16ce982e0e2": {
          "model_module": "@jupyter-widgets/controls",
          "model_name": "FloatProgressModel",
          "model_module_version": "1.5.0",
          "state": {
            "_dom_classes": [],
            "_model_module": "@jupyter-widgets/controls",
            "_model_module_version": "1.5.0",
            "_model_name": "FloatProgressModel",
            "_view_count": null,
            "_view_module": "@jupyter-widgets/controls",
            "_view_module_version": "1.5.0",
            "_view_name": "ProgressView",
            "bar_style": "",
            "description": "",
            "description_tooltip": null,
            "layout": "IPY_MODEL_b95356760a8d44ec9829c5fa7f8fd8b2",
            "max": 435755888,
            "min": 0,
            "orientation": "horizontal",
            "style": "IPY_MODEL_0caed6fa98f8475a9f5772154094d3e6",
            "value": 167772160
          }
        },
        "28430d34b8a94729b736fb730a7b7fde": {
          "model_module": "@jupyter-widgets/controls",
          "model_name": "HTMLModel",
          "model_module_version": "1.5.0",
          "state": {
            "_dom_classes": [],
            "_model_module": "@jupyter-widgets/controls",
            "_model_module_version": "1.5.0",
            "_model_name": "HTMLModel",
            "_view_count": null,
            "_view_module": "@jupyter-widgets/controls",
            "_view_module_version": "1.5.0",
            "_view_name": "HTMLView",
            "description": "",
            "description_tooltip": null,
            "layout": "IPY_MODEL_89ad7a524ae54f7cb10dd6d63cd9c8fd",
            "placeholder": "​",
            "style": "IPY_MODEL_0ae965b8520142c9a4a28951003041c1",
            "value": " 168M/436M [00:02&lt;00:02, 122MB/s]"
          }
        },
        "fc7e310e04af439b83c0d8d08bb07692": {
          "model_module": "@jupyter-widgets/base",
          "model_name": "LayoutModel",
          "model_module_version": "1.2.0",
          "state": {
            "_model_module": "@jupyter-widgets/base",
            "_model_module_version": "1.2.0",
            "_model_name": "LayoutModel",
            "_view_count": null,
            "_view_module": "@jupyter-widgets/base",
            "_view_module_version": "1.2.0",
            "_view_name": "LayoutView",
            "align_content": null,
            "align_items": null,
            "align_self": null,
            "border": null,
            "bottom": null,
            "display": null,
            "flex": null,
            "flex_flow": null,
            "grid_area": null,
            "grid_auto_columns": null,
            "grid_auto_flow": null,
            "grid_auto_rows": null,
            "grid_column": null,
            "grid_gap": null,
            "grid_row": null,
            "grid_template_areas": null,
            "grid_template_columns": null,
            "grid_template_rows": null,
            "height": null,
            "justify_content": null,
            "justify_items": null,
            "left": null,
            "margin": null,
            "max_height": null,
            "max_width": null,
            "min_height": null,
            "min_width": null,
            "object_fit": null,
            "object_position": null,
            "order": null,
            "overflow": null,
            "overflow_x": null,
            "overflow_y": null,
            "padding": null,
            "right": null,
            "top": null,
            "visibility": null,
            "width": null
          }
        },
        "ac134639a11943e5b7160ce20bbe32b8": {
          "model_module": "@jupyter-widgets/base",
          "model_name": "LayoutModel",
          "model_module_version": "1.2.0",
          "state": {
            "_model_module": "@jupyter-widgets/base",
            "_model_module_version": "1.2.0",
            "_model_name": "LayoutModel",
            "_view_count": null,
            "_view_module": "@jupyter-widgets/base",
            "_view_module_version": "1.2.0",
            "_view_name": "LayoutView",
            "align_content": null,
            "align_items": null,
            "align_self": null,
            "border": null,
            "bottom": null,
            "display": null,
            "flex": null,
            "flex_flow": null,
            "grid_area": null,
            "grid_auto_columns": null,
            "grid_auto_flow": null,
            "grid_auto_rows": null,
            "grid_column": null,
            "grid_gap": null,
            "grid_row": null,
            "grid_template_areas": null,
            "grid_template_columns": null,
            "grid_template_rows": null,
            "height": null,
            "justify_content": null,
            "justify_items": null,
            "left": null,
            "margin": null,
            "max_height": null,
            "max_width": null,
            "min_height": null,
            "min_width": null,
            "object_fit": null,
            "object_position": null,
            "order": null,
            "overflow": null,
            "overflow_x": null,
            "overflow_y": null,
            "padding": null,
            "right": null,
            "top": null,
            "visibility": null,
            "width": null
          }
        },
        "97c9f7c52ec24885afc8f093255c8263": {
          "model_module": "@jupyter-widgets/controls",
          "model_name": "DescriptionStyleModel",
          "model_module_version": "1.5.0",
          "state": {
            "_model_module": "@jupyter-widgets/controls",
            "_model_module_version": "1.5.0",
            "_model_name": "DescriptionStyleModel",
            "_view_count": null,
            "_view_module": "@jupyter-widgets/base",
            "_view_module_version": "1.2.0",
            "_view_name": "StyleView",
            "description_width": ""
          }
        },
        "b95356760a8d44ec9829c5fa7f8fd8b2": {
          "model_module": "@jupyter-widgets/base",
          "model_name": "LayoutModel",
          "model_module_version": "1.2.0",
          "state": {
            "_model_module": "@jupyter-widgets/base",
            "_model_module_version": "1.2.0",
            "_model_name": "LayoutModel",
            "_view_count": null,
            "_view_module": "@jupyter-widgets/base",
            "_view_module_version": "1.2.0",
            "_view_name": "LayoutView",
            "align_content": null,
            "align_items": null,
            "align_self": null,
            "border": null,
            "bottom": null,
            "display": null,
            "flex": null,
            "flex_flow": null,
            "grid_area": null,
            "grid_auto_columns": null,
            "grid_auto_flow": null,
            "grid_auto_rows": null,
            "grid_column": null,
            "grid_gap": null,
            "grid_row": null,
            "grid_template_areas": null,
            "grid_template_columns": null,
            "grid_template_rows": null,
            "height": null,
            "justify_content": null,
            "justify_items": null,
            "left": null,
            "margin": null,
            "max_height": null,
            "max_width": null,
            "min_height": null,
            "min_width": null,
            "object_fit": null,
            "object_position": null,
            "order": null,
            "overflow": null,
            "overflow_x": null,
            "overflow_y": null,
            "padding": null,
            "right": null,
            "top": null,
            "visibility": null,
            "width": null
          }
        },
        "0caed6fa98f8475a9f5772154094d3e6": {
          "model_module": "@jupyter-widgets/controls",
          "model_name": "ProgressStyleModel",
          "model_module_version": "1.5.0",
          "state": {
            "_model_module": "@jupyter-widgets/controls",
            "_model_module_version": "1.5.0",
            "_model_name": "ProgressStyleModel",
            "_view_count": null,
            "_view_module": "@jupyter-widgets/base",
            "_view_module_version": "1.2.0",
            "_view_name": "StyleView",
            "bar_color": null,
            "description_width": ""
          }
        },
        "89ad7a524ae54f7cb10dd6d63cd9c8fd": {
          "model_module": "@jupyter-widgets/base",
          "model_name": "LayoutModel",
          "model_module_version": "1.2.0",
          "state": {
            "_model_module": "@jupyter-widgets/base",
            "_model_module_version": "1.2.0",
            "_model_name": "LayoutModel",
            "_view_count": null,
            "_view_module": "@jupyter-widgets/base",
            "_view_module_version": "1.2.0",
            "_view_name": "LayoutView",
            "align_content": null,
            "align_items": null,
            "align_self": null,
            "border": null,
            "bottom": null,
            "display": null,
            "flex": null,
            "flex_flow": null,
            "grid_area": null,
            "grid_auto_columns": null,
            "grid_auto_flow": null,
            "grid_auto_rows": null,
            "grid_column": null,
            "grid_gap": null,
            "grid_row": null,
            "grid_template_areas": null,
            "grid_template_columns": null,
            "grid_template_rows": null,
            "height": null,
            "justify_content": null,
            "justify_items": null,
            "left": null,
            "margin": null,
            "max_height": null,
            "max_width": null,
            "min_height": null,
            "min_width": null,
            "object_fit": null,
            "object_position": null,
            "order": null,
            "overflow": null,
            "overflow_x": null,
            "overflow_y": null,
            "padding": null,
            "right": null,
            "top": null,
            "visibility": null,
            "width": null
          }
        },
        "0ae965b8520142c9a4a28951003041c1": {
          "model_module": "@jupyter-widgets/controls",
          "model_name": "DescriptionStyleModel",
          "model_module_version": "1.5.0",
          "state": {
            "_model_module": "@jupyter-widgets/controls",
            "_model_module_version": "1.5.0",
            "_model_name": "DescriptionStyleModel",
            "_view_count": null,
            "_view_module": "@jupyter-widgets/base",
            "_view_module_version": "1.2.0",
            "_view_name": "StyleView",
            "description_width": ""
          }
        }
      }
    }
  },
  "cells": [
    {
      "cell_type": "markdown",
      "source": [
        "**1. Data Preprocessing:**\n",
        "\n",
        "This section focuses on preparing the ENT symptoms dataset for machine learning analysis. It involves the following steps:\n",
        "\n",
        "1. **Loading the Dataset:**\n",
        "   - The code reads the ENT symptoms dataset from a CSV file named \"ENT symptoms dataset - no_dups_ent.csv\" using the pandas library.\n",
        "   - The dataset is loaded into a pandas DataFrame called `df`.\n",
        "\n",
        "2. **Handling Missing Values and Merging Symptoms:**\n",
        "   - The code identifies the columns containing symptom information: 'Common Symptoms', 'Patient Reported Symptoms', and 'Additional Symptoms'.\n",
        "   - Any missing values (NaNs) in these columns are replaced with empty strings to avoid errors during text processing.\n",
        "   - All symptom columns are merged into a single column named \"All Symptoms\" to combine all symptom information for each record into a single text string.\n",
        "\n",
        "3. **Filtering Diseases with Limited Samples:**\n",
        "   - The code filters out diseases that have fewer than 10 samples in the dataset. This is done to ensure sufficient data for reliable model training and to prevent overfitting.\n",
        "   - The filtered DataFrame is stored in the variable `df_filtered`.\n",
        "\n",
        "4. **Checking Remaining Diseases:**\n",
        "   - The code prints the frequency of each remaining disease in the filtered dataset using `value_counts()`.\n",
        "   - This provides an overview of the distribution of diseases after filtering, helping to understand the dataset's composition.\n",
        "\n",
        "This preprocessing prepares the data for subsequent machine learning tasks, such as disease prediction, by cleaning, organizing, and filtering the symptom information."
      ],
      "metadata": {
        "id": "1F6CTeKLYEMd"
      }
    },
    {
      "cell_type": "code",
      "execution_count": null,
      "metadata": {
        "colab": {
          "base_uri": "https://localhost:8080/"
        },
        "id": "yQIHNPGvQxSK",
        "outputId": "c390dae6-b48f-4764-98bf-6ac9b70f70e7"
      },
      "outputs": [
        {
          "output_type": "stream",
          "name": "stdout",
          "text": [
            "Disease Name\n",
            "Acoustic Neuroma                               20\n",
            "Adenoiditis                                    20\n",
            "Allergic Rhinitis                              20\n",
            "Otitis Externa (Swimmer's Ear)                 20\n",
            "Acute Otitis Media                             20\n",
            "Ménière’s Disease                              19\n",
            "Presbycusis (Age-related Hearing Loss)         18\n",
            "Cholesteatoma                                  18\n",
            "Benign Paroxysmal Positional Vertigo (BPPV)    17\n",
            "Eustachian Tube Dysfunction                    17\n",
            "Acoustic Neuroma (Vestibular Schwannoma)       17\n",
            "Otitis Media with Effusion                     17\n",
            "Sudden Sensorineural Hearing Loss              17\n",
            "Labyrinthitis                                  16\n",
            "Ramsay Hunt Syndrome                           16\n",
            "Hyperacusis                                    15\n",
            "Otosclerosis                                   15\n",
            "Tinnitus                                       15\n",
            "Chronic Otitis Media                           15\n",
            "Ear Barotrauma                                 15\n",
            "Tympanic Membrane Perforation                  14\n",
            "Autoimmune Inner Ear Disease                   13\n",
            "Mastoiditis                                    10\n",
            "Name: count, dtype: int64\n"
          ]
        }
      ],
      "source": [
        "import pandas as pd\n",
        "from sklearn.feature_extraction.text import TfidfVectorizer\n",
        "from sklearn.ensemble import RandomForestClassifier\n",
        "from sklearn.model_selection import train_test_split\n",
        "from sklearn.utils import resample\n",
        "from sklearn.metrics import classification_report, f1_score\n",
        "\n",
        "# Load dataset\n",
        "df = pd.read_csv(\"ENT symptoms dataset - no_dups_ent.csv\")\n",
        "\n",
        "# Define symptom columns explicitly\n",
        "symptom_cols = ['Common Symptoms', 'Patient Reported Symptoms', 'Additional Symptoms']\n",
        "\n",
        "# Handle NaNs and merge symptoms into single text column\n",
        "df[symptom_cols] = df[symptom_cols].fillna('')\n",
        "df['All Symptoms'] = df[symptom_cols].agg(' '.join, axis=1)\n",
        "\n",
        "# Filter out diseases with fewer than 10 samples\n",
        "df_filtered = df.groupby('Disease Name').filter(lambda x: len(x) >= 10)\n",
        "\n",
        "# Check the remaining diseases\n",
        "print(df_filtered['Disease Name'].value_counts())"
      ]
    },
    {
      "cell_type": "markdown",
      "source": [
        "**2. Experimenting Model Accuracy with ClinicalBERT model**"
      ],
      "metadata": {
        "id": "ZsZx_z4Nh5SU"
      }
    },
    {
      "cell_type": "markdown",
      "source": [
        "This section of code prepares the data for training a machine learning model to predict diseases based on patient symptoms. It imports the necessary libraries, transforms disease names into numerical labels, and divides the data into training and testing sets. The use of stratification ensures that the model is trained and evaluated on a balanced representation of different diseases, potentially improving its performance and generalizability."
      ],
      "metadata": {
        "id": "LM5n5reUYvmq"
      }
    },
    {
      "cell_type": "code",
      "source": [
        "import pandas as pd\n",
        "import torch\n",
        "from torch.utils.data import DataLoader, Dataset\n",
        "from transformers import BertTokenizer, BertModel, BertForSequenceClassification\n",
        "from imblearn.over_sampling import SMOTE\n",
        "from sklearn.model_selection import train_test_split\n",
        "from sklearn.preprocessing import LabelEncoder\n",
        "from sklearn.metrics import classification_report, f1_score\n",
        "import numpy as np\n",
        "\n",
        "# Encode labels\n",
        "le = LabelEncoder()\n",
        "df_filtered['label'] = le.fit_transform(df_filtered['Disease Name'])\n",
        "\n",
        "# Split dataset\n",
        "X_train, X_test, y_train, y_test = train_test_split(\n",
        "    df_filtered['All Symptoms'],\n",
        "    df_filtered['label'],\n",
        "    test_size=0.2,\n",
        "    random_state=42,\n",
        "    stratify=df_filtered['label']\n",
        ")"
      ],
      "metadata": {
        "id": "9qgdLbO-RR5R"
      },
      "execution_count": null,
      "outputs": []
    },
    {
      "cell_type": "markdown",
      "source": [
        "**Loading ClinicalBERT Tokenizer and Model**\n",
        "\n",
        "These two lines are essential for setting up the ClinicalBERT model for use. They load both the tokenizer, which prepares the text data, and the pre-trained model itself, which is used for generating insights from the text. By using a pre-trained model, the code leverages existing knowledge and avoids the need to train a new model from scratch."
      ],
      "metadata": {
        "id": "E1KrikRKY41D"
      }
    },
    {
      "cell_type": "code",
      "source": [
        "# Load ClinicalBERT tokenizer and model\n",
        "tokenizer = BertTokenizer.from_pretrained('emilyalsentzer/Bio_ClinicalBERT')\n",
        "bert_model = BertModel.from_pretrained('emilyalsentzer/Bio_ClinicalBERT')"
      ],
      "metadata": {
        "colab": {
          "base_uri": "https://localhost:8080/",
          "height": 272,
          "referenced_widgets": [
            "78d2dd6498fb4e2da3bb7c8e5caed3b3",
            "fbe56860c3c54a87b0fd5f82f2c295c0",
            "6206cbe7b7184eca85ba36e739058c8c",
            "8205e49462eb46aa84fe5ae0a5dfc440",
            "0227b991ed3a446da12f2d2990fd09e4",
            "5391378166cb4e5389020d9163d9f01f",
            "e500bed1043c497a9954cdd172297d9c",
            "32880c4274d04d7c85b4c5f0746b239b",
            "206d88d7ba4c49e98abe99d18138bfb9",
            "f0369231eeee4135a42032a4e74999c4",
            "6e14e02cc9144b2ba79aabd3db1fd830",
            "fb2fb4f5181f4f9a952dad71c6598a50",
            "d3db1b5ae07e42a2aea407d8b15bb710",
            "030f6693efb1441c9dd79851442d0ac9",
            "b102fc24c7a34957867d3c6ec15a9fb0",
            "a554063b6f0344229ab43de871aba6e6",
            "ce1efa886d2b46c0948ee5688d227a8b",
            "e187906f53e34c7193d73e023b8c366a",
            "29eb5ac35e0945afa759fc9083a5303d",
            "b0006de65505416fa508a73a1c959301",
            "7f5605797e2e411fbd2deb4f6659a6df",
            "82a8e1af3705440b8d305cdef8a8f657",
            "5aea5f4e60c64b53a7effbd27fd07293",
            "46b16409196949af9da92ef60444313e",
            "79f4ef44d9224ab7bb55fddb7a176d0b",
            "9b499889195f44fca911473941609f56",
            "990c6cf752744cb3ac4526c69d985c66",
            "85e9993b71354246a06a463fb2ad2b64",
            "96327eafe3d54d8eb19fa299faad8052",
            "d0b015c2233b4ff29480c6f0253fc976",
            "7e5f127826594ff1b2c95ee7f7f6fcb2",
            "32527500b5184bfba53c5c1a6f3b42b6",
            "cf00225c429f406d8f5f1fbb0d5a8107",
            "9bfdb44e86a24704b4a0ff539a6fc4bc",
            "3e1111ae305343449ab4e1dd9f44876e",
            "885898b596184e92ba77f16ce982e0e2",
            "28430d34b8a94729b736fb730a7b7fde",
            "fc7e310e04af439b83c0d8d08bb07692",
            "ac134639a11943e5b7160ce20bbe32b8",
            "97c9f7c52ec24885afc8f093255c8263",
            "b95356760a8d44ec9829c5fa7f8fd8b2",
            "0caed6fa98f8475a9f5772154094d3e6",
            "89ad7a524ae54f7cb10dd6d63cd9c8fd",
            "0ae965b8520142c9a4a28951003041c1"
          ]
        },
        "id": "t4UtebqeLPbB",
        "outputId": "070873e1-b8ff-42cd-cf5f-3562c6d79e3d"
      },
      "execution_count": null,
      "outputs": [
        {
          "output_type": "stream",
          "name": "stderr",
          "text": [
            "/usr/local/lib/python3.11/dist-packages/huggingface_hub/utils/_auth.py:94: UserWarning: \n",
            "The secret `HF_TOKEN` does not exist in your Colab secrets.\n",
            "To authenticate with the Hugging Face Hub, create a token in your settings tab (https://huggingface.co/settings/tokens), set it as secret in your Google Colab and restart your session.\n",
            "You will be able to reuse this secret in all of your notebooks.\n",
            "Please note that authentication is recommended but still optional to access public models or datasets.\n",
            "  warnings.warn(\n"
          ]
        },
        {
          "output_type": "display_data",
          "data": {
            "text/plain": [
              "vocab.txt:   0%|          | 0.00/213k [00:00<?, ?B/s]"
            ],
            "application/vnd.jupyter.widget-view+json": {
              "version_major": 2,
              "version_minor": 0,
              "model_id": "78d2dd6498fb4e2da3bb7c8e5caed3b3"
            }
          },
          "metadata": {}
        },
        {
          "output_type": "display_data",
          "data": {
            "text/plain": [
              "config.json:   0%|          | 0.00/385 [00:00<?, ?B/s]"
            ],
            "application/vnd.jupyter.widget-view+json": {
              "version_major": 2,
              "version_minor": 0,
              "model_id": "fb2fb4f5181f4f9a952dad71c6598a50"
            }
          },
          "metadata": {}
        },
        {
          "output_type": "display_data",
          "data": {
            "text/plain": [
              "pytorch_model.bin:   0%|          | 0.00/436M [00:00<?, ?B/s]"
            ],
            "application/vnd.jupyter.widget-view+json": {
              "version_major": 2,
              "version_minor": 0,
              "model_id": "5aea5f4e60c64b53a7effbd27fd07293"
            }
          },
          "metadata": {}
        },
        {
          "output_type": "display_data",
          "data": {
            "text/plain": [
              "model.safetensors:   0%|          | 0.00/436M [00:00<?, ?B/s]"
            ],
            "application/vnd.jupyter.widget-view+json": {
              "version_major": 2,
              "version_minor": 0,
              "model_id": "9bfdb44e86a24704b4a0ff539a6fc4bc"
            }
          },
          "metadata": {}
        }
      ]
    },
    {
      "cell_type": "markdown",
      "source": [
        "This function prepares the text data for ClinicalBERT by breaking it down, adding padding, and converting it into a suitable format for the model. This preprocessed data is crucial for the model to understand and analyze the text for disease prediction."
      ],
      "metadata": {
        "id": "I-yYLNR2ZK1r"
      }
    },
    {
      "cell_type": "code",
      "source": [
        "# Tokenize function\n",
        "def tokenize(texts, tokenizer, max_length=128):\n",
        "    return tokenizer(\n",
        "        texts.tolist(),\n",
        "        padding='max_length',\n",
        "        truncation=True,\n",
        "        max_length=max_length,\n",
        "        return_tensors='pt'\n",
        "    )"
      ],
      "metadata": {
        "id": "srYuV72qLomm"
      },
      "execution_count": 10,
      "outputs": []
    },
    {
      "cell_type": "markdown",
      "source": [
        "This code snippet takes the training data (X_train), processes it using the tokenize function, feeds it to the ClinicalBERT model (bert_model), and finally extracts the generated text embeddings (train_embeddings). These embeddings will be used for training a machine learning model, for example, a classifier to identify disease based on symptoms description."
      ],
      "metadata": {
        "id": "K5dNm5EbZNDo"
      }
    },
    {
      "cell_type": "code",
      "source": [
        "# Generate embeddings for training data\n",
        "with torch.no_grad():\n",
        "    train_tokens = tokenize(X_train, tokenizer)\n",
        "    train_outputs = bert_model(**train_tokens)\n",
        "    train_embeddings = train_outputs.pooler_output.detach().numpy()"
      ],
      "metadata": {
        "id": "jZ6rJuvGORau"
      },
      "execution_count": 8,
      "outputs": []
    },
    {
      "cell_type": "markdown",
      "source": [
        "This code snippet uses SMOTE to balance the dataset by creating synthetic samples for the minority classes. This helps in training a more robust and unbiased machine learning model that can better predict diseases even if they have limited representation in the original dataset."
      ],
      "metadata": {
        "id": "F47p6cyOZbHY"
      }
    },
    {
      "cell_type": "code",
      "source": [
        "# Apply SMOTE to balance the embeddings\n",
        "smote = SMOTE(random_state=42)\n",
        "train_embeddings_resampled, y_train_resampled = smote.fit_resample(train_embeddings, y_train)\n",
        "\n",
        "# Ensure these variables are explicitly named and exist:\n",
        "print(f\"train_embeddings_resampled shape: {train_embeddings_resampled.shape}\")\n",
        "print(f\"y_train_resampled shape: {y_train_resampled.shape}\")"
      ],
      "metadata": {
        "id": "u0rfi9QCPBAy",
        "colab": {
          "base_uri": "https://localhost:8080/"
        },
        "outputId": "e8845317-7051-49c4-ce92-48d39bfaac11"
      },
      "execution_count": 9,
      "outputs": [
        {
          "output_type": "stream",
          "name": "stdout",
          "text": [
            "train_embeddings_resampled shape: (368, 768)\n",
            "y_train_resampled shape: (368,)\n"
          ]
        }
      ]
    },
    {
      "cell_type": "markdown",
      "source": [
        "This class structures your symptom embeddings and their associated disease labels into a format that PyTorch can efficiently work with during model training. By implementing these three methods (__init__, __len__, __getitem__), you've created a custom dataset that seamlessly integrates with PyTorch's data loading mechanisms."
      ],
      "metadata": {
        "id": "pm7kZ-p2ZpUS"
      }
    },
    {
      "cell_type": "code",
      "source": [
        "# Define PyTorch dataset for embeddings\n",
        "class SymptomEmbeddingDataset(Dataset):\n",
        "    def __init__(self, embeddings, labels):\n",
        "        self.embeddings = torch.tensor(embeddings, dtype=torch.float32)\n",
        "        self.labels = torch.tensor(labels, dtype=torch.long)\n",
        "\n",
        "    def __len__(self):\n",
        "        return len(self.labels)\n",
        "\n",
        "    def __getitem__(self, idx):\n",
        "        return {\n",
        "            'embeddings': self.embeddings[idx],\n",
        "            'labels': self.labels[idx]\n",
        "        }"
      ],
      "metadata": {
        "id": "6p-uCEbSPILi"
      },
      "execution_count": 11,
      "outputs": []
    },
    {
      "cell_type": "markdown",
      "source": [
        "These two lines prepare your training data for use with a PyTorch model. The SymptomEmbeddingDataset structures the data, while the DataLoader manages how the data is fed to the model during training, including batching and shuffling. This setup is crucial for efficiently training your machine learning model to predict diseases based on symptom embeddings."
      ],
      "metadata": {
        "id": "qX2HGppEZ28v"
      }
    },
    {
      "cell_type": "code",
      "source": [
        "# Create Dataset and DataLoader for training\n",
        "train_dataset = SymptomEmbeddingDataset(train_embeddings_resampled, y_train_resampled)\n",
        "train_loader = DataLoader(train_dataset, batch_size=16, shuffle=True)"
      ],
      "metadata": {
        "id": "3t0a0OJ0PsLS"
      },
      "execution_count": 12,
      "outputs": []
    },
    {
      "cell_type": "markdown",
      "source": [
        "The EmbeddingClassifier class defines a neural network model that takes symptom embeddings as input and uses a series of linear layers, activation functions, and dropout to classify the input into different disease categories. It's designed to work with pre-trained embeddings like those generated by ClinicalBERT."
      ],
      "metadata": {
        "id": "h2Z4W2DiaH4V"
      }
    },
    {
      "cell_type": "code",
      "source": [
        "# Define PyTorch model using embeddings\n",
        "class EmbeddingClassifier(torch.nn.Module):\n",
        "    def __init__(self, input_dim=768, num_classes=len(y_train.unique())):\n",
        "        super().__init__()\n",
        "        self.classifier = torch.nn.Sequential(\n",
        "            torch.nn.Linear(input_dim, 256),\n",
        "            torch.nn.ReLU(),\n",
        "            torch.nn.Dropout(0.2),\n",
        "            torch.nn.Linear(256, num_classes)\n",
        "        )\n",
        "\n",
        "    def forward(self, embeddings):\n",
        "        return self.classifier(embeddings)"
      ],
      "metadata": {
        "id": "W_NrXr3BPvey"
      },
      "execution_count": 13,
      "outputs": []
    },
    {
      "cell_type": "markdown",
      "source": [
        "**Optimizer and Training Mode**\n",
        "\n",
        "1. **optimizer = torch.optim.AdamW(model.parameters(), lr=1e-4)**: This line creates an optimizer called AdamW, which is an algorithm used to update the model's parameters during training to minimize the loss function.\n",
        "\n",
        "2. **model.parameters()**: Provides the model's learnable parameters to the optimizer.\n",
        "lr=1e-4: Sets the learning rate, a hyperparameter that controls how much the model's parameters are adjusted during each update step.\n",
        "model.train():\n",
        "\n",
        "This line sets the model to training mode. In PyTorch, models have different behaviors during training and evaluation. This ensures that operations like dropout are activated during training."
      ],
      "metadata": {
        "id": "zp9P28QeaSKb"
      }
    },
    {
      "cell_type": "code",
      "source": [
        "model = EmbeddingClassifier(input_dim=768, num_classes=len(df['label'].unique()))\n",
        "device = torch.device(\"cuda\" if torch.cuda.is_available() else \"cpu\")\n",
        "model.to(device)\n",
        "\n",
        "# Train the model (short training example)\n",
        "optimizer = torch.optim.AdamW(model.parameters(), lr=1e-4)\n",
        "\n",
        "# train model\n",
        "model.train()"
      ],
      "metadata": {
        "colab": {
          "base_uri": "https://localhost:8080/"
        },
        "id": "4zzb1CRFPxvD",
        "outputId": "cc5640c3-c3be-4632-b849-7955538baebc"
      },
      "execution_count": 17,
      "outputs": [
        {
          "output_type": "execute_result",
          "data": {
            "text/plain": [
              "EmbeddingClassifier(\n",
              "  (classifier): Sequential(\n",
              "    (0): Linear(in_features=768, out_features=256, bias=True)\n",
              "    (1): ReLU()\n",
              "    (2): Dropout(p=0.2, inplace=False)\n",
              "    (3): Linear(in_features=256, out_features=106, bias=True)\n",
              "  )\n",
              ")"
            ]
          },
          "metadata": {},
          "execution_count": 17
        }
      ]
    },
    {
      "cell_type": "markdown",
      "source": [
        "**Training Loop Explanation**\n",
        "\n",
        "This training loop iteratively feeds data to the model, calculates the error in its predictions, and adjusts the model's parameters to minimize the error over time. This process is repeated for the specified number of epochs, aiming to create a model that accurately predicts diseases based on patient symptoms."
      ],
      "metadata": {
        "id": "2wnqj1PmazBo"
      }
    },
    {
      "cell_type": "code",
      "source": [
        "epochs = 3\n",
        "for epoch in range(epochs):\n",
        "    total_loss = 0\n",
        "    for batch in train_loader:\n",
        "        optimizer.zero_grad()\n",
        "        embeddings = batch['embeddings'].to(device)\n",
        "        labels = batch['labels'].to(device)\n",
        "        logits = model(embeddings)\n",
        "        loss = torch.nn.CrossEntropyLoss()(logits, labels)\n",
        "        loss.backward()\n",
        "        optimizer.step()\n",
        "        total_loss += loss.item()\n",
        "\n",
        "    avg_loss = total_loss / len(train_loader)\n",
        "    print(f\"Epoch {epoch+1}/{epochs}, Loss: {avg_loss:.4f}\")"
      ],
      "metadata": {
        "colab": {
          "base_uri": "https://localhost:8080/"
        },
        "id": "3fnDMXpwQAAS",
        "outputId": "cac163ec-e6d5-4a3f-80dd-81647356065b"
      },
      "execution_count": 19,
      "outputs": [
        {
          "output_type": "stream",
          "name": "stdout",
          "text": [
            "Epoch 1/3, Loss: 4.1050\n",
            "Epoch 2/3, Loss: 3.6808\n",
            "Epoch 3/3, Loss: 3.3554\n"
          ]
        }
      ]
    },
    {
      "cell_type": "markdown",
      "source": [
        "**Preparing Test Data for Evaluation with ClinicalBERT**\n",
        "\n",
        "This section prepares the test data for evaluation by:\n",
        "\n",
        "1. **Generating embeddings**: Using ClinicalBERT to transform the test symptom text into numerical representations.\n",
        "2. **Creating dataset and dataloader**: Organizing the embeddings and labels into a format that PyTorch can easily handle during evaluation.\n",
        "This organized test data is then used to assess the performance of the trained model by comparing its predictions against the true disease labels."
      ],
      "metadata": {
        "id": "eYA0Kt-ba_Xf"
      }
    },
    {
      "cell_type": "code",
      "source": [
        "# For evaluation, you must embed test data similarly\n",
        "with torch.no_grad():\n",
        "    test_tokens = tokenize(X_test, tokenizer)\n",
        "    test_outputs = bert_model(**test_tokens)\n",
        "    test_embeddings = test_outputs.pooler_output.detach().numpy()\n",
        "\n",
        "test_dataset = SymptomEmbeddingDataset(test_embeddings, y_test.values)\n",
        "test_loader = DataLoader(test_dataset, batch_size=32)"
      ],
      "metadata": {
        "id": "6SpXCOdCQMNB"
      },
      "execution_count": 20,
      "outputs": []
    },
    {
      "cell_type": "markdown",
      "source": [
        "**Evaluation of the Model**\n",
        "\n",
        "This code snippet efficiently uses the trained model to predict diseases for the test data, storing the actual labels and the model's predictions for later analysis and performance evaluation using metrics like classification reports and F1-score.\n"
      ],
      "metadata": {
        "id": "FVeg8SMBbQfs"
      }
    },
    {
      "cell_type": "code",
      "source": [
        "# Evaluate\n",
        "model.eval()\n",
        "y_true, y_pred = [], []\n",
        "\n",
        "with torch.no_grad():\n",
        "    for batch in test_loader:\n",
        "        inputs = batch['embeddings'].to(device)\n",
        "        labels = batch['labels'].cpu().numpy()\n",
        "        outputs = model(inputs)\n",
        "        preds = torch.argmax(outputs, dim=1).cpu().numpy()\n",
        "        y_true.extend(labels)\n",
        "        y_pred.extend(preds)"
      ],
      "metadata": {
        "id": "SjZU1pVYQ-5N"
      },
      "execution_count": 21,
      "outputs": []
    },
    {
      "cell_type": "markdown",
      "source": [
        "**Evaluating the Model's Performance**\n",
        "\n",
        "This section assesses the effectiveness of the disease prediction model by providing detailed performance metrics for each disease and a summarized score for overall performance."
      ],
      "metadata": {
        "id": "8q2grIVBbadt"
      }
    },
    {
      "cell_type": "code",
      "source": [
        "# Metrics\n",
        "print(classification_report(y_true, y_pred, target_names=le.classes_))\n",
        "print(\"Macro F1-score:\", f1_score(y_true, y_pred, average='macro'))"
      ],
      "metadata": {
        "colab": {
          "base_uri": "https://localhost:8080/"
        },
        "id": "yolOxml4RLH4",
        "outputId": "51fa046f-882b-4740-cf60-dd13abbcbcfa"
      },
      "execution_count": 22,
      "outputs": [
        {
          "output_type": "stream",
          "name": "stdout",
          "text": [
            "                                             precision    recall  f1-score   support\n",
            "\n",
            "                           Acoustic Neuroma       0.00      0.00      0.00         4\n",
            "   Acoustic Neuroma (Vestibular Schwannoma)       0.00      0.00      0.00         3\n",
            "                         Acute Otitis Media       0.00      0.00      0.00         4\n",
            "                                Adenoiditis       0.00      0.00      0.00         4\n",
            "                          Allergic Rhinitis       0.00      0.00      0.00         4\n",
            "               Autoimmune Inner Ear Disease       0.13      1.00      0.23         3\n",
            "Benign Paroxysmal Positional Vertigo (BPPV)       0.00      0.00      0.00         3\n",
            "                              Cholesteatoma       0.00      0.00      0.00         4\n",
            "                       Chronic Otitis Media       0.00      0.00      0.00         3\n",
            "                             Ear Barotrauma       0.00      0.00      0.00         3\n",
            "                Eustachian Tube Dysfunction       0.00      0.00      0.00         4\n",
            "                                Hyperacusis       0.06      0.33      0.11         3\n",
            "                              Labyrinthitis       0.00      0.00      0.00         3\n",
            "                                Mastoiditis       0.00      0.00      0.00         2\n",
            "                          Ménière’s Disease       0.00      0.00      0.00         4\n",
            "             Otitis Externa (Swimmer's Ear)       0.00      0.00      0.00         4\n",
            "                 Otitis Media with Effusion       0.00      0.00      0.00         3\n",
            "                               Otosclerosis       0.00      0.00      0.00         3\n",
            "     Presbycusis (Age-related Hearing Loss)       0.00      0.00      0.00         4\n",
            "                       Ramsay Hunt Syndrome       0.10      0.67      0.17         3\n",
            "          Sudden Sensorineural Hearing Loss       0.00      0.00      0.00         3\n",
            "                                   Tinnitus       0.17      1.00      0.29         3\n",
            "              Tympanic Membrane Perforation       0.00      0.00      0.00         3\n",
            "\n",
            "                                   accuracy                           0.12        77\n",
            "                                  macro avg       0.02      0.13      0.03        77\n",
            "                               weighted avg       0.02      0.12      0.03        77\n",
            "\n",
            "Macro F1-score: 0.03459390077637019\n"
          ]
        },
        {
          "output_type": "stream",
          "name": "stderr",
          "text": [
            "/usr/local/lib/python3.11/dist-packages/sklearn/metrics/_classification.py:1565: UndefinedMetricWarning: Precision is ill-defined and being set to 0.0 in labels with no predicted samples. Use `zero_division` parameter to control this behavior.\n",
            "  _warn_prf(average, modifier, f\"{metric.capitalize()} is\", len(result))\n",
            "/usr/local/lib/python3.11/dist-packages/sklearn/metrics/_classification.py:1565: UndefinedMetricWarning: Precision is ill-defined and being set to 0.0 in labels with no predicted samples. Use `zero_division` parameter to control this behavior.\n",
            "  _warn_prf(average, modifier, f\"{metric.capitalize()} is\", len(result))\n",
            "/usr/local/lib/python3.11/dist-packages/sklearn/metrics/_classification.py:1565: UndefinedMetricWarning: Precision is ill-defined and being set to 0.0 in labels with no predicted samples. Use `zero_division` parameter to control this behavior.\n",
            "  _warn_prf(average, modifier, f\"{metric.capitalize()} is\", len(result))\n"
          ]
        }
      ]
    },
    {
      "cell_type": "markdown",
      "source": [
        "Evaluation metrics reveal this model's limitations for symptom prediction and classification. It achieved a precision of 2%, meaning only 2% of predicted symptoms were correct. The recall of 13% indicates it only identified 13% of actual symptoms. The overall macro F1-score, a balanced measure of precision and recall, was only 3%. These results indicate the model is not suitable for this task."
      ],
      "metadata": {
        "id": "odycW2x1TJcC"
      }
    },
    {
      "cell_type": "markdown",
      "source": [
        "**3. Experimenting Model Accuracy with Random Classifier model**\n",
        "\n",
        "**Encoding Disease Labels**\n",
        "\n",
        "This code takes a column of `Disease names` (text) and converts it into a column of corresponding numerical labels, making it suitable for use in machine learning models. For example, if you had diseases like 'Flu', 'Cold', and 'Allergy', they might be encoded as 0, 1, and 2, respectively.\n"
      ],
      "metadata": {
        "id": "n0lkTcpMULV3"
      }
    },
    {
      "cell_type": "code",
      "source": [
        "# Encode labels\n",
        "from sklearn.preprocessing import LabelEncoder\n",
        "le = LabelEncoder()\n",
        "df_filtered['Disease Label'] = le.fit_transform(df_filtered['Disease Name'])"
      ],
      "metadata": {
        "id": "W2NiPtjpT5KS"
      },
      "execution_count": 23,
      "outputs": []
    },
    {
      "cell_type": "markdown",
      "source": [
        "**TF-IDF Vectorization**\n",
        "\n",
        "This code takes the textual symptom descriptions, converts them into numerical representations using TF-IDF, and prepares them to be used as input (X_vectors) for a machine learning model, along with the corresponding disease labels (y) as the target variable."
      ],
      "metadata": {
        "id": "kebIcvKnb7dM"
      }
    },
    {
      "cell_type": "code",
      "source": [
        "# TF-IDF Vectorization\n",
        "from sklearn.feature_extraction.text import TfidfVectorizer\n",
        "vectorizer = TfidfVectorizer(max_features=1000)\n",
        "X_vectors = vectorizer.fit_transform(df_filtered['All Symptoms']).toarray()\n",
        "y = df_filtered['Disease Label']\n"
      ],
      "metadata": {
        "id": "2AmE0-LbUK0C"
      },
      "execution_count": 24,
      "outputs": []
    },
    {
      "cell_type": "markdown",
      "source": [
        "**Train-Test Split**\n",
        "\n",
        "This code snippet prepares your data for model training and evaluation by dividing it into training and testing sets. The use of stratify ensures a balanced representation of diseases across these sets, crucial for reliable model assessment. By separating the data, we can train the model on one portion and then assess its performance on unseen data, giving us an indication of its real-world effectiveness."
      ],
      "metadata": {
        "id": "wr4DKySGcFQC"
      }
    },
    {
      "cell_type": "code",
      "source": [
        "# Train-test split\n",
        "from sklearn.model_selection import train_test_split\n",
        "X_train, X_test, y_train, y_test = train_test_split(\n",
        "    X_vectors, y, test_size=0.2, random_state=42, stratify=y\n",
        ")\n"
      ],
      "metadata": {
        "id": "70kpqrHeROfQ"
      },
      "execution_count": 25,
      "outputs": []
    },
    {
      "cell_type": "markdown",
      "source": [
        "**SMOTE for Data Balancing**\n",
        "\n",
        "These lines use SMOTE to balance your training data by creating synthetic samples for the minority classes, making your model less biased and potentially improving its performance on the under-represented diseases."
      ],
      "metadata": {
        "id": "BfUSydAAcTPZ"
      }
    },
    {
      "cell_type": "code",
      "source": [
        "# Apply SMOTE\n",
        "from imblearn.over_sampling import SMOTE\n",
        "smote = SMOTE(random_state=42)\n",
        "X_train_resampled, y_train_resampled = smote.fit_resample(X_train, y_train)"
      ],
      "metadata": {
        "id": "2NwSJQ6cT4uG"
      },
      "execution_count": 26,
      "outputs": []
    },
    {
      "cell_type": "markdown",
      "source": [
        "**Training a Random Forest Classifier**\n",
        "\n",
        "This code section creates a Random Forest model, configures it with 100 decision trees and a fixed random state, and then trains the model on the preprocessed and balanced training data to learn the relationships between symptoms and diseases. After this step, the model (clf) is ready to make predictions on new, unseen symptom data. I hope this helps to explain the process!"
      ],
      "metadata": {
        "id": "KmGXbr4GclH9"
      }
    },
    {
      "cell_type": "code",
      "source": [
        "# Train RandomForest Classifier\n",
        "from sklearn.ensemble import RandomForestClassifier\n",
        "clf = RandomForestClassifier(n_estimators=100, random_state=42)\n",
        "clf.fit(X_train_resampled, y_train_resampled)"
      ],
      "metadata": {
        "colab": {
          "base_uri": "https://localhost:8080/",
          "height": 80
        },
        "id": "IXi0a602UsYx",
        "outputId": "22c807e5-a497-47a1-8548-17776f210a52"
      },
      "execution_count": 27,
      "outputs": [
        {
          "output_type": "execute_result",
          "data": {
            "text/plain": [
              "RandomForestClassifier(random_state=42)"
            ],
            "text/html": [
              "<style>#sk-container-id-1 {\n",
              "  /* Definition of color scheme common for light and dark mode */\n",
              "  --sklearn-color-text: #000;\n",
              "  --sklearn-color-text-muted: #666;\n",
              "  --sklearn-color-line: gray;\n",
              "  /* Definition of color scheme for unfitted estimators */\n",
              "  --sklearn-color-unfitted-level-0: #fff5e6;\n",
              "  --sklearn-color-unfitted-level-1: #f6e4d2;\n",
              "  --sklearn-color-unfitted-level-2: #ffe0b3;\n",
              "  --sklearn-color-unfitted-level-3: chocolate;\n",
              "  /* Definition of color scheme for fitted estimators */\n",
              "  --sklearn-color-fitted-level-0: #f0f8ff;\n",
              "  --sklearn-color-fitted-level-1: #d4ebff;\n",
              "  --sklearn-color-fitted-level-2: #b3dbfd;\n",
              "  --sklearn-color-fitted-level-3: cornflowerblue;\n",
              "\n",
              "  /* Specific color for light theme */\n",
              "  --sklearn-color-text-on-default-background: var(--sg-text-color, var(--theme-code-foreground, var(--jp-content-font-color1, black)));\n",
              "  --sklearn-color-background: var(--sg-background-color, var(--theme-background, var(--jp-layout-color0, white)));\n",
              "  --sklearn-color-border-box: var(--sg-text-color, var(--theme-code-foreground, var(--jp-content-font-color1, black)));\n",
              "  --sklearn-color-icon: #696969;\n",
              "\n",
              "  @media (prefers-color-scheme: dark) {\n",
              "    /* Redefinition of color scheme for dark theme */\n",
              "    --sklearn-color-text-on-default-background: var(--sg-text-color, var(--theme-code-foreground, var(--jp-content-font-color1, white)));\n",
              "    --sklearn-color-background: var(--sg-background-color, var(--theme-background, var(--jp-layout-color0, #111)));\n",
              "    --sklearn-color-border-box: var(--sg-text-color, var(--theme-code-foreground, var(--jp-content-font-color1, white)));\n",
              "    --sklearn-color-icon: #878787;\n",
              "  }\n",
              "}\n",
              "\n",
              "#sk-container-id-1 {\n",
              "  color: var(--sklearn-color-text);\n",
              "}\n",
              "\n",
              "#sk-container-id-1 pre {\n",
              "  padding: 0;\n",
              "}\n",
              "\n",
              "#sk-container-id-1 input.sk-hidden--visually {\n",
              "  border: 0;\n",
              "  clip: rect(1px 1px 1px 1px);\n",
              "  clip: rect(1px, 1px, 1px, 1px);\n",
              "  height: 1px;\n",
              "  margin: -1px;\n",
              "  overflow: hidden;\n",
              "  padding: 0;\n",
              "  position: absolute;\n",
              "  width: 1px;\n",
              "}\n",
              "\n",
              "#sk-container-id-1 div.sk-dashed-wrapped {\n",
              "  border: 1px dashed var(--sklearn-color-line);\n",
              "  margin: 0 0.4em 0.5em 0.4em;\n",
              "  box-sizing: border-box;\n",
              "  padding-bottom: 0.4em;\n",
              "  background-color: var(--sklearn-color-background);\n",
              "}\n",
              "\n",
              "#sk-container-id-1 div.sk-container {\n",
              "  /* jupyter's `normalize.less` sets `[hidden] { display: none; }`\n",
              "     but bootstrap.min.css set `[hidden] { display: none !important; }`\n",
              "     so we also need the `!important` here to be able to override the\n",
              "     default hidden behavior on the sphinx rendered scikit-learn.org.\n",
              "     See: https://github.com/scikit-learn/scikit-learn/issues/21755 */\n",
              "  display: inline-block !important;\n",
              "  position: relative;\n",
              "}\n",
              "\n",
              "#sk-container-id-1 div.sk-text-repr-fallback {\n",
              "  display: none;\n",
              "}\n",
              "\n",
              "div.sk-parallel-item,\n",
              "div.sk-serial,\n",
              "div.sk-item {\n",
              "  /* draw centered vertical line to link estimators */\n",
              "  background-image: linear-gradient(var(--sklearn-color-text-on-default-background), var(--sklearn-color-text-on-default-background));\n",
              "  background-size: 2px 100%;\n",
              "  background-repeat: no-repeat;\n",
              "  background-position: center center;\n",
              "}\n",
              "\n",
              "/* Parallel-specific style estimator block */\n",
              "\n",
              "#sk-container-id-1 div.sk-parallel-item::after {\n",
              "  content: \"\";\n",
              "  width: 100%;\n",
              "  border-bottom: 2px solid var(--sklearn-color-text-on-default-background);\n",
              "  flex-grow: 1;\n",
              "}\n",
              "\n",
              "#sk-container-id-1 div.sk-parallel {\n",
              "  display: flex;\n",
              "  align-items: stretch;\n",
              "  justify-content: center;\n",
              "  background-color: var(--sklearn-color-background);\n",
              "  position: relative;\n",
              "}\n",
              "\n",
              "#sk-container-id-1 div.sk-parallel-item {\n",
              "  display: flex;\n",
              "  flex-direction: column;\n",
              "}\n",
              "\n",
              "#sk-container-id-1 div.sk-parallel-item:first-child::after {\n",
              "  align-self: flex-end;\n",
              "  width: 50%;\n",
              "}\n",
              "\n",
              "#sk-container-id-1 div.sk-parallel-item:last-child::after {\n",
              "  align-self: flex-start;\n",
              "  width: 50%;\n",
              "}\n",
              "\n",
              "#sk-container-id-1 div.sk-parallel-item:only-child::after {\n",
              "  width: 0;\n",
              "}\n",
              "\n",
              "/* Serial-specific style estimator block */\n",
              "\n",
              "#sk-container-id-1 div.sk-serial {\n",
              "  display: flex;\n",
              "  flex-direction: column;\n",
              "  align-items: center;\n",
              "  background-color: var(--sklearn-color-background);\n",
              "  padding-right: 1em;\n",
              "  padding-left: 1em;\n",
              "}\n",
              "\n",
              "\n",
              "/* Toggleable style: style used for estimator/Pipeline/ColumnTransformer box that is\n",
              "clickable and can be expanded/collapsed.\n",
              "- Pipeline and ColumnTransformer use this feature and define the default style\n",
              "- Estimators will overwrite some part of the style using the `sk-estimator` class\n",
              "*/\n",
              "\n",
              "/* Pipeline and ColumnTransformer style (default) */\n",
              "\n",
              "#sk-container-id-1 div.sk-toggleable {\n",
              "  /* Default theme specific background. It is overwritten whether we have a\n",
              "  specific estimator or a Pipeline/ColumnTransformer */\n",
              "  background-color: var(--sklearn-color-background);\n",
              "}\n",
              "\n",
              "/* Toggleable label */\n",
              "#sk-container-id-1 label.sk-toggleable__label {\n",
              "  cursor: pointer;\n",
              "  display: flex;\n",
              "  width: 100%;\n",
              "  margin-bottom: 0;\n",
              "  padding: 0.5em;\n",
              "  box-sizing: border-box;\n",
              "  text-align: center;\n",
              "  align-items: start;\n",
              "  justify-content: space-between;\n",
              "  gap: 0.5em;\n",
              "}\n",
              "\n",
              "#sk-container-id-1 label.sk-toggleable__label .caption {\n",
              "  font-size: 0.6rem;\n",
              "  font-weight: lighter;\n",
              "  color: var(--sklearn-color-text-muted);\n",
              "}\n",
              "\n",
              "#sk-container-id-1 label.sk-toggleable__label-arrow:before {\n",
              "  /* Arrow on the left of the label */\n",
              "  content: \"▸\";\n",
              "  float: left;\n",
              "  margin-right: 0.25em;\n",
              "  color: var(--sklearn-color-icon);\n",
              "}\n",
              "\n",
              "#sk-container-id-1 label.sk-toggleable__label-arrow:hover:before {\n",
              "  color: var(--sklearn-color-text);\n",
              "}\n",
              "\n",
              "/* Toggleable content - dropdown */\n",
              "\n",
              "#sk-container-id-1 div.sk-toggleable__content {\n",
              "  max-height: 0;\n",
              "  max-width: 0;\n",
              "  overflow: hidden;\n",
              "  text-align: left;\n",
              "  /* unfitted */\n",
              "  background-color: var(--sklearn-color-unfitted-level-0);\n",
              "}\n",
              "\n",
              "#sk-container-id-1 div.sk-toggleable__content.fitted {\n",
              "  /* fitted */\n",
              "  background-color: var(--sklearn-color-fitted-level-0);\n",
              "}\n",
              "\n",
              "#sk-container-id-1 div.sk-toggleable__content pre {\n",
              "  margin: 0.2em;\n",
              "  border-radius: 0.25em;\n",
              "  color: var(--sklearn-color-text);\n",
              "  /* unfitted */\n",
              "  background-color: var(--sklearn-color-unfitted-level-0);\n",
              "}\n",
              "\n",
              "#sk-container-id-1 div.sk-toggleable__content.fitted pre {\n",
              "  /* unfitted */\n",
              "  background-color: var(--sklearn-color-fitted-level-0);\n",
              "}\n",
              "\n",
              "#sk-container-id-1 input.sk-toggleable__control:checked~div.sk-toggleable__content {\n",
              "  /* Expand drop-down */\n",
              "  max-height: 200px;\n",
              "  max-width: 100%;\n",
              "  overflow: auto;\n",
              "}\n",
              "\n",
              "#sk-container-id-1 input.sk-toggleable__control:checked~label.sk-toggleable__label-arrow:before {\n",
              "  content: \"▾\";\n",
              "}\n",
              "\n",
              "/* Pipeline/ColumnTransformer-specific style */\n",
              "\n",
              "#sk-container-id-1 div.sk-label input.sk-toggleable__control:checked~label.sk-toggleable__label {\n",
              "  color: var(--sklearn-color-text);\n",
              "  background-color: var(--sklearn-color-unfitted-level-2);\n",
              "}\n",
              "\n",
              "#sk-container-id-1 div.sk-label.fitted input.sk-toggleable__control:checked~label.sk-toggleable__label {\n",
              "  background-color: var(--sklearn-color-fitted-level-2);\n",
              "}\n",
              "\n",
              "/* Estimator-specific style */\n",
              "\n",
              "/* Colorize estimator box */\n",
              "#sk-container-id-1 div.sk-estimator input.sk-toggleable__control:checked~label.sk-toggleable__label {\n",
              "  /* unfitted */\n",
              "  background-color: var(--sklearn-color-unfitted-level-2);\n",
              "}\n",
              "\n",
              "#sk-container-id-1 div.sk-estimator.fitted input.sk-toggleable__control:checked~label.sk-toggleable__label {\n",
              "  /* fitted */\n",
              "  background-color: var(--sklearn-color-fitted-level-2);\n",
              "}\n",
              "\n",
              "#sk-container-id-1 div.sk-label label.sk-toggleable__label,\n",
              "#sk-container-id-1 div.sk-label label {\n",
              "  /* The background is the default theme color */\n",
              "  color: var(--sklearn-color-text-on-default-background);\n",
              "}\n",
              "\n",
              "/* On hover, darken the color of the background */\n",
              "#sk-container-id-1 div.sk-label:hover label.sk-toggleable__label {\n",
              "  color: var(--sklearn-color-text);\n",
              "  background-color: var(--sklearn-color-unfitted-level-2);\n",
              "}\n",
              "\n",
              "/* Label box, darken color on hover, fitted */\n",
              "#sk-container-id-1 div.sk-label.fitted:hover label.sk-toggleable__label.fitted {\n",
              "  color: var(--sklearn-color-text);\n",
              "  background-color: var(--sklearn-color-fitted-level-2);\n",
              "}\n",
              "\n",
              "/* Estimator label */\n",
              "\n",
              "#sk-container-id-1 div.sk-label label {\n",
              "  font-family: monospace;\n",
              "  font-weight: bold;\n",
              "  display: inline-block;\n",
              "  line-height: 1.2em;\n",
              "}\n",
              "\n",
              "#sk-container-id-1 div.sk-label-container {\n",
              "  text-align: center;\n",
              "}\n",
              "\n",
              "/* Estimator-specific */\n",
              "#sk-container-id-1 div.sk-estimator {\n",
              "  font-family: monospace;\n",
              "  border: 1px dotted var(--sklearn-color-border-box);\n",
              "  border-radius: 0.25em;\n",
              "  box-sizing: border-box;\n",
              "  margin-bottom: 0.5em;\n",
              "  /* unfitted */\n",
              "  background-color: var(--sklearn-color-unfitted-level-0);\n",
              "}\n",
              "\n",
              "#sk-container-id-1 div.sk-estimator.fitted {\n",
              "  /* fitted */\n",
              "  background-color: var(--sklearn-color-fitted-level-0);\n",
              "}\n",
              "\n",
              "/* on hover */\n",
              "#sk-container-id-1 div.sk-estimator:hover {\n",
              "  /* unfitted */\n",
              "  background-color: var(--sklearn-color-unfitted-level-2);\n",
              "}\n",
              "\n",
              "#sk-container-id-1 div.sk-estimator.fitted:hover {\n",
              "  /* fitted */\n",
              "  background-color: var(--sklearn-color-fitted-level-2);\n",
              "}\n",
              "\n",
              "/* Specification for estimator info (e.g. \"i\" and \"?\") */\n",
              "\n",
              "/* Common style for \"i\" and \"?\" */\n",
              "\n",
              ".sk-estimator-doc-link,\n",
              "a:link.sk-estimator-doc-link,\n",
              "a:visited.sk-estimator-doc-link {\n",
              "  float: right;\n",
              "  font-size: smaller;\n",
              "  line-height: 1em;\n",
              "  font-family: monospace;\n",
              "  background-color: var(--sklearn-color-background);\n",
              "  border-radius: 1em;\n",
              "  height: 1em;\n",
              "  width: 1em;\n",
              "  text-decoration: none !important;\n",
              "  margin-left: 0.5em;\n",
              "  text-align: center;\n",
              "  /* unfitted */\n",
              "  border: var(--sklearn-color-unfitted-level-1) 1pt solid;\n",
              "  color: var(--sklearn-color-unfitted-level-1);\n",
              "}\n",
              "\n",
              ".sk-estimator-doc-link.fitted,\n",
              "a:link.sk-estimator-doc-link.fitted,\n",
              "a:visited.sk-estimator-doc-link.fitted {\n",
              "  /* fitted */\n",
              "  border: var(--sklearn-color-fitted-level-1) 1pt solid;\n",
              "  color: var(--sklearn-color-fitted-level-1);\n",
              "}\n",
              "\n",
              "/* On hover */\n",
              "div.sk-estimator:hover .sk-estimator-doc-link:hover,\n",
              ".sk-estimator-doc-link:hover,\n",
              "div.sk-label-container:hover .sk-estimator-doc-link:hover,\n",
              ".sk-estimator-doc-link:hover {\n",
              "  /* unfitted */\n",
              "  background-color: var(--sklearn-color-unfitted-level-3);\n",
              "  color: var(--sklearn-color-background);\n",
              "  text-decoration: none;\n",
              "}\n",
              "\n",
              "div.sk-estimator.fitted:hover .sk-estimator-doc-link.fitted:hover,\n",
              ".sk-estimator-doc-link.fitted:hover,\n",
              "div.sk-label-container:hover .sk-estimator-doc-link.fitted:hover,\n",
              ".sk-estimator-doc-link.fitted:hover {\n",
              "  /* fitted */\n",
              "  background-color: var(--sklearn-color-fitted-level-3);\n",
              "  color: var(--sklearn-color-background);\n",
              "  text-decoration: none;\n",
              "}\n",
              "\n",
              "/* Span, style for the box shown on hovering the info icon */\n",
              ".sk-estimator-doc-link span {\n",
              "  display: none;\n",
              "  z-index: 9999;\n",
              "  position: relative;\n",
              "  font-weight: normal;\n",
              "  right: .2ex;\n",
              "  padding: .5ex;\n",
              "  margin: .5ex;\n",
              "  width: min-content;\n",
              "  min-width: 20ex;\n",
              "  max-width: 50ex;\n",
              "  color: var(--sklearn-color-text);\n",
              "  box-shadow: 2pt 2pt 4pt #999;\n",
              "  /* unfitted */\n",
              "  background: var(--sklearn-color-unfitted-level-0);\n",
              "  border: .5pt solid var(--sklearn-color-unfitted-level-3);\n",
              "}\n",
              "\n",
              ".sk-estimator-doc-link.fitted span {\n",
              "  /* fitted */\n",
              "  background: var(--sklearn-color-fitted-level-0);\n",
              "  border: var(--sklearn-color-fitted-level-3);\n",
              "}\n",
              "\n",
              ".sk-estimator-doc-link:hover span {\n",
              "  display: block;\n",
              "}\n",
              "\n",
              "/* \"?\"-specific style due to the `<a>` HTML tag */\n",
              "\n",
              "#sk-container-id-1 a.estimator_doc_link {\n",
              "  float: right;\n",
              "  font-size: 1rem;\n",
              "  line-height: 1em;\n",
              "  font-family: monospace;\n",
              "  background-color: var(--sklearn-color-background);\n",
              "  border-radius: 1rem;\n",
              "  height: 1rem;\n",
              "  width: 1rem;\n",
              "  text-decoration: none;\n",
              "  /* unfitted */\n",
              "  color: var(--sklearn-color-unfitted-level-1);\n",
              "  border: var(--sklearn-color-unfitted-level-1) 1pt solid;\n",
              "}\n",
              "\n",
              "#sk-container-id-1 a.estimator_doc_link.fitted {\n",
              "  /* fitted */\n",
              "  border: var(--sklearn-color-fitted-level-1) 1pt solid;\n",
              "  color: var(--sklearn-color-fitted-level-1);\n",
              "}\n",
              "\n",
              "/* On hover */\n",
              "#sk-container-id-1 a.estimator_doc_link:hover {\n",
              "  /* unfitted */\n",
              "  background-color: var(--sklearn-color-unfitted-level-3);\n",
              "  color: var(--sklearn-color-background);\n",
              "  text-decoration: none;\n",
              "}\n",
              "\n",
              "#sk-container-id-1 a.estimator_doc_link.fitted:hover {\n",
              "  /* fitted */\n",
              "  background-color: var(--sklearn-color-fitted-level-3);\n",
              "}\n",
              "</style><div id=\"sk-container-id-1\" class=\"sk-top-container\"><div class=\"sk-text-repr-fallback\"><pre>RandomForestClassifier(random_state=42)</pre><b>In a Jupyter environment, please rerun this cell to show the HTML representation or trust the notebook. <br />On GitHub, the HTML representation is unable to render, please try loading this page with nbviewer.org.</b></div><div class=\"sk-container\" hidden><div class=\"sk-item\"><div class=\"sk-estimator fitted sk-toggleable\"><input class=\"sk-toggleable__control sk-hidden--visually\" id=\"sk-estimator-id-1\" type=\"checkbox\" checked><label for=\"sk-estimator-id-1\" class=\"sk-toggleable__label fitted sk-toggleable__label-arrow\"><div><div>RandomForestClassifier</div></div><div><a class=\"sk-estimator-doc-link fitted\" rel=\"noreferrer\" target=\"_blank\" href=\"https://scikit-learn.org/1.6/modules/generated/sklearn.ensemble.RandomForestClassifier.html\">?<span>Documentation for RandomForestClassifier</span></a><span class=\"sk-estimator-doc-link fitted\">i<span>Fitted</span></span></div></label><div class=\"sk-toggleable__content fitted\"><pre>RandomForestClassifier(random_state=42)</pre></div> </div></div></div></div>"
            ]
          },
          "metadata": {},
          "execution_count": 27
        }
      ]
    },
    {
      "cell_type": "markdown",
      "source": [
        "**Evaluating the Random Forest Model**\n",
        "\n",
        "This code uses the trained Random Forest model (clf) to predict diseases for the test data (X_test) and stores these predictions in y_pred. It then imports functions that will be used to evaluate the quality of these predictions by comparing them to the actual disease labels (y_test, which was not used during training). The evaluation itself is likely done in subsequent code using the imported classification_report and f1_score functions."
      ],
      "metadata": {
        "id": "SC_DquzPcucU"
      }
    },
    {
      "cell_type": "code",
      "source": [
        "# Evaluate model\n",
        "from sklearn.metrics import classification_report, f1_score\n",
        "y_pred = clf.predict(X_test)"
      ],
      "metadata": {
        "id": "mTFeUjULUupJ"
      },
      "execution_count": 28,
      "outputs": []
    },
    {
      "cell_type": "markdown",
      "source": [
        "**Evaluating the Random Forest Model's Performance**\n",
        "\n",
        "This code snippet evaluates the Random Forest model by:\n",
        "\n",
        "1. Generating a detailed classification report showing precision, recall, F1-score, and support for each disease.\n",
        "2. Calculating the macro F1-score, providing an overall performance metric that treats all diseases equally.\n",
        "\n",
        "These metrics are essential for understanding the model's strengths and weaknesses and for making informed decisions about its deployment and further improvement."
      ],
      "metadata": {
        "id": "hDu5i1dMc2dG"
      }
    },
    {
      "cell_type": "code",
      "source": [
        "# Metrics\n",
        "print(classification_report(y_test, y_pred, target_names=le.classes_))\n",
        "print(\"Macro F1-score:\", f1_score(y_test, y_pred, average='macro'))\n"
      ],
      "metadata": {
        "colab": {
          "base_uri": "https://localhost:8080/"
        },
        "id": "-iNA3EAhUxfm",
        "outputId": "2759b291-2303-4b6d-e5e3-807a22557b64"
      },
      "execution_count": 29,
      "outputs": [
        {
          "output_type": "stream",
          "name": "stdout",
          "text": [
            "                                             precision    recall  f1-score   support\n",
            "\n",
            "                           Acoustic Neuroma       0.80      1.00      0.89         4\n",
            "   Acoustic Neuroma (Vestibular Schwannoma)       1.00      1.00      1.00         3\n",
            "                         Acute Otitis Media       1.00      1.00      1.00         4\n",
            "                                Adenoiditis       0.57      1.00      0.73         4\n",
            "                          Allergic Rhinitis       1.00      0.25      0.40         4\n",
            "               Autoimmune Inner Ear Disease       1.00      1.00      1.00         3\n",
            "Benign Paroxysmal Positional Vertigo (BPPV)       1.00      1.00      1.00         3\n",
            "                              Cholesteatoma       1.00      0.50      0.67         4\n",
            "                       Chronic Otitis Media       0.75      1.00      0.86         3\n",
            "                             Ear Barotrauma       1.00      1.00      1.00         3\n",
            "                Eustachian Tube Dysfunction       1.00      1.00      1.00         4\n",
            "                                Hyperacusis       1.00      1.00      1.00         3\n",
            "                              Labyrinthitis       1.00      0.67      0.80         3\n",
            "                                Mastoiditis       0.67      1.00      0.80         2\n",
            "                          Ménière’s Disease       1.00      1.00      1.00         4\n",
            "             Otitis Externa (Swimmer's Ear)       1.00      0.75      0.86         4\n",
            "                 Otitis Media with Effusion       0.75      1.00      0.86         3\n",
            "                               Otosclerosis       1.00      1.00      1.00         3\n",
            "     Presbycusis (Age-related Hearing Loss)       1.00      1.00      1.00         4\n",
            "                       Ramsay Hunt Syndrome       1.00      1.00      1.00         3\n",
            "          Sudden Sensorineural Hearing Loss       1.00      1.00      1.00         3\n",
            "                                   Tinnitus       1.00      1.00      1.00         3\n",
            "              Tympanic Membrane Perforation       1.00      1.00      1.00         3\n",
            "\n",
            "                                   accuracy                           0.91        77\n",
            "                                  macro avg       0.94      0.92      0.91        77\n",
            "                               weighted avg       0.94      0.91      0.90        77\n",
            "\n",
            "Macro F1-score: 0.906706819750298\n"
          ]
        }
      ]
    },
    {
      "cell_type": "markdown",
      "source": [
        "While the model demonstrates strong performance for several ENT conditions, overall performance is mixed.\n",
        "\n",
        "**Strengths**:\n",
        "\n",
        "High Precision and Recall for Many Conditions: The model achieved perfect or near-perfect precision and recall (and therefore F1-score) for a significant number of ENT conditions, including Acoustic Neuroma (Vestibular Schwannoma), Acute Otitis Media, Autoimmune Inner Ear Disease, Benign Paroxysmal Positional Vertigo (BPPV), Ear Barotrauma, Eustachian Tube Dysfunction, Hyperacusis, Ménière’s Disease, Otosclerosis, Presbycusis, Ramsay Hunt Syndrome, Sudden Sensorineural Hearing Loss, and Tinnitus. This indicates strong and reliable prediction for these specific conditions.\n",
        "\n",
        "**Weaknesses:**\n",
        "\n",
        "Lower Performance on Certain Conditions: For conditions like Allergic Rhinitis,\n",
        "\n",
        "Cholesteatoma, Labyrinthitis, Mastoiditis, and Otitis Externa, the model showed lower precision, recall, or both. Notably, Allergic Rhinitis had a precision of 1.00 but a recall of only 0.25, indicating that while all predicted cases were correct, the model only identified 25% of actual cases. Cholesteatoma also had relatively lower performance with a precision of 1.00 and recall of 0.50.\n",
        "\n",
        "Limited Support for Some Conditions: The support values (number of actual cases in the test set) are relatively low for some conditions, which may affect the reliability of the metrics. For example, Mastoiditis only had a support of 2.\n",
        "Overall:\n",
        "\n",
        "The model exhibits promising performance for many ENT conditions but requires improvement for others, particularly Allergic Rhinitis and Cholesteatoma. Further investigation and potential model adjustments are needed to enhance overall performance and ensure reliable predictions across all target conditions.\"\n",
        "\n",
        "**Important Considerations:**\n",
        "\n",
        "Macro F1-score: While not explicitly provided, it would be helpful to calculate the macro F1-score to get a balanced measure of the model's performance across all conditions, especially considering the varying support values.\n",
        "\n",
        "Data Imbalance: The differing support values indicate potential class imbalance in the dataset. Addressing this imbalance through techniques like oversampling or using weighted loss functions during training could improve performance on under-represented conditions.\n",
        "\n",
        "Error Analysis: Examining specific cases where the model made incorrect predictions would provide insights for further refinement and improvement."
      ],
      "metadata": {
        "id": "hZC-jtVBVFbd"
      }
    },
    {
      "cell_type": "markdown",
      "source": [
        "Let's persist the model and start testing it out"
      ],
      "metadata": {
        "id": "HJiKq_vNVdLS"
      }
    },
    {
      "cell_type": "code",
      "source": [
        "import joblib\n",
        "\n",
        "# Assuming you already have clf, vectorizer, and le from your training code:\n",
        "joblib.dump(clf, 'ent_symptom_model.pkl')\n",
        "joblib.dump(vectorizer, 'vectorizer.pkl')\n",
        "joblib.dump(le, 'label_encoder.pkl')"
      ],
      "metadata": {
        "colab": {
          "base_uri": "https://localhost:8080/"
        },
        "id": "1D4wUWDLVn3a",
        "outputId": "ba11ddda-356c-45e3-a18d-c7062598b2ca"
      },
      "execution_count": 30,
      "outputs": [
        {
          "output_type": "execute_result",
          "data": {
            "text/plain": [
              "['label_encoder.pkl']"
            ]
          },
          "metadata": {},
          "execution_count": 30
        }
      ]
    },
    {
      "cell_type": "code",
      "source": [
        "def predict_diseases(symptom_texts):\n",
        "    \"\"\"\n",
        "    Accepts either a single symptom string or a list of symptom strings.\n",
        "    Returns the predicted disease(s).\n",
        "    \"\"\"\n",
        "    # If a single string is passed, convert it into a list\n",
        "    if isinstance(symptom_texts, str):\n",
        "        symptom_texts = [symptom_texts]\n",
        "\n",
        "    # Transform the list of symptom strings using the vectorizer\n",
        "    text_vectorized = vectorizer.transform(symptom_texts)\n",
        "    # Get predictions for each text entry\n",
        "    predictions = clf.predict(text_vectorized)\n",
        "    # Convert numerical labels back to disease names\n",
        "    predicted_diseases = le.inverse_transform(predictions)\n",
        "    return predicted_diseases"
      ],
      "metadata": {
        "id": "yw7AzKDcVrtB"
      },
      "execution_count": 31,
      "outputs": []
    },
    {
      "cell_type": "code",
      "source": [
        "# Test multiple symptom cases:\n",
        "symptom_cases = [\n",
        "    \"I have severe ear pain and dizziness\",\n",
        "    \"I experience a high fever and persistent cough\",\n",
        "    \"I have headache and nausea\"\n",
        "]\n",
        "\n",
        "predicted_diseases = predict_diseases(symptom_cases)\n",
        "for symptoms, disease in zip(symptom_cases, predicted_diseases):\n",
        "    print(f\"Symptoms: {symptoms} -> Predicted Disease: {disease}\")"
      ],
      "metadata": {
        "colab": {
          "base_uri": "https://localhost:8080/"
        },
        "id": "3Da2lywVVxX1",
        "outputId": "37a375da-59d7-419b-8dc1-42df7ea62bb7"
      },
      "execution_count": 32,
      "outputs": [
        {
          "output_type": "stream",
          "name": "stdout",
          "text": [
            "Symptoms: I have severe ear pain and dizziness -> Predicted Disease: Mastoiditis\n",
            "Symptoms: I experience a high fever and persistent cough -> Predicted Disease: Adenoiditis\n",
            "Symptoms: I have headache and nausea -> Predicted Disease: Adenoiditis\n"
          ]
        }
      ]
    },
    {
      "cell_type": "markdown",
      "source": [
        "**Conclusion:**\n",
        "\n",
        "The model's predictions demonstrate its ability to associate symptom descriptions with potential ENT conditions. However, the accuracy of these predictions needs further validation.\n",
        "\n",
        "**Case 1**: \"I have severe ear pain and dizziness\" -> Mastoiditis: This prediction aligns with clinical knowledge, as severe ear pain and dizziness are common symptoms of Mastoiditis.\n",
        "\n",
        "**Case 2:** \"I experience a high fever and persistent cough\" -> Adenoiditis: This prediction might require further scrutiny. While a fever can be present in Adenoiditis, a persistent cough is more characteristic of other respiratory infections.\n",
        "\n",
        "**Case 3:** \"I have headache and nausea\" -> Adenoiditis: This prediction could also benefit from further evaluation. While headaches can occur with Adenoiditis, nausea is not a typical symptom."
      ],
      "metadata": {
        "id": "JXLlqkeKWVNn"
      }
    },
    {
      "cell_type": "code",
      "source": [],
      "metadata": {
        "id": "NK_UoVBNWayO"
      },
      "execution_count": null,
      "outputs": []
    }
  ]
}