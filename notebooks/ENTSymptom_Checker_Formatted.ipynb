{
 "cells": [
  {
   "cell_type": "markdown",
   "id": "48bf4d62",
   "metadata": {},
   "source": [
    "# ENT Symptom Checker using Random Forest"
   ]
  },
  {
   "cell_type": "markdown",
   "id": "97f988c8",
   "metadata": {},
   "source": [
    "This notebook trains a machine learning model to predict ENT diseases based on patient symptoms using TF-IDF and Random Forest."
   ]
  },
  {
   "cell_type": "markdown",
   "id": "f2542543",
   "metadata": {},
   "source": [
    "## Step 1: Load and Preprocess Dataset\n",
    "We load the dataset and consolidate symptom-related columns into a single text field."
   ]
  },
  {
   "cell_type": "code",
   "execution_count": null,
   "id": "6e255795",
   "metadata": {},
   "outputs": [],
   "source": [
    "import pandas as pd\n",
    "from sklearn.feature_extraction.text import TfidfVectorizer\n",
    "from sklearn.ensemble import RandomForestClassifier\n",
    "from sklearn.model_selection import train_test_split\n",
    "from sklearn.utils import resample\n",
    "from sklearn.metrics import classification_report, f1_score\n",
    "\n",
    "# Load dataset\n",
    "df = pd.read_csv(\"ENT symptoms dataset - no_dups_ent.csv\")\n",
    "\n",
    "# Define symptom columns explicitly\n",
    "symptom_cols = ['Common Symptoms', 'Patient Reported Symptoms', 'Additional Symptoms']\n",
    "\n",
    "# Handle NaNs and merge symptoms into single text column\n",
    "df[symptom_cols] = df[symptom_cols].fillna('')\n",
    "df['All Symptoms'] = df[symptom_cols].agg(' '.join, axis=1)\n",
    "\n",
    "# Filter out diseases with fewer than 10 samples\n",
    "df_filtered = df.groupby('Disease Name').filter(lambda x: len(x) >= 10)\n",
    "\n",
    "# Check the remaining diseases\n",
    "print(df_filtered['Disease Name'].value_counts())\n",
    "\n",
    "# Encode disease labels\n",
    "from sklearn.preprocessing import LabelEncoder\n",
    "label_encoder = LabelEncoder()\n",
    "df_filtered['label'] = label_encoder.fit_transform(df_filtered['Disease Name'])\n",
    "\n",
    "# Prepare TF-IDF vectors\n",
    "vectorizer = TfidfVectorizer(max_features=1000)\n",
    "X = vectorizer.fit_transform(df_filtered['All Symptoms'])\n",
    "y = df_filtered['Disease Name']\n",
    "\n",
    "# Train-test split (80/20 split)\n",
    "X_train, X_test, y_train, y_test = train_test_split(\n",
    "    X, y, test_size=0.2, stratify=y, random_state=42\n",
    ")\n",
    "\n",
    "# Balancing training data via upsampling minority classes\n",
    "df_train = pd.DataFrame(X_train.toarray())\n",
    "df_train['Disease Name'] = y_train.values\n",
    "\n",
    "# Upsample to balance classes\n",
    "df_balanced = pd.concat([\n",
    "    resample(\n",
    "        df_train[df_train['Disease Name'] == label],\n",
    "        replace=True,\n",
    "        n_samples=df_train['Disease Name'].value_counts().max(),\n",
    "        random_state=42\n",
    "    )\n",
    "    for label in df_train['Disease Name'].unique()\n",
    "])\n",
    "\n",
    "# Split back into X, y\n",
    "X_train_balanced = df_balanced.drop('Disease Name', axis=1)\n",
    "y_train_balanced = df_balanced['Disease Name']\n",
    "\n",
    "# Train RandomForest classifier\n",
    "clf = RandomForestClassifier(n_estimators=100, random_state=42)\n",
    "clf.fit(X_train_balanced, y_train_balanced)\n",
    "\n",
    "# Predict on test set\n",
    "y_pred = clf.predict(X_test)\n",
    "\n",
    "# Evaluation\n",
    "print(\"\\nClassification Report:\")\n",
    "print(classification_report(y_test, y_pred))\n",
    "\n",
    "print(\"Macro F1-score:\", f1_score(y_test, y_pred, average='macro'))\n"
   ]
  },
  {
   "cell_type": "markdown",
   "id": "ff069949",
   "metadata": {},
   "source": [
    "## Step 2: Filter Diseases with Fewer Than 10 Records"
   ]
  },
  {
   "cell_type": "markdown",
   "id": "df98dd22",
   "metadata": {},
   "source": [
    "## Step 3: Encode Labels and Vectorize Text using TF-IDF"
   ]
  },
  {
   "cell_type": "markdown",
   "id": "526284a5",
   "metadata": {},
   "source": [
    "## Step 4: Train-Test Split and Data Balancing"
   ]
  },
  {
   "cell_type": "markdown",
   "id": "97c5f152",
   "metadata": {},
   "source": [
    "## Step 5: Train Random Forest Classifier"
   ]
  },
  {
   "cell_type": "markdown",
   "id": "b9981653",
   "metadata": {},
   "source": [
    "## Step 6: Evaluate Model Performance"
   ]
  }
 ],
 "metadata": {},
 "nbformat": 4,
 "nbformat_minor": 5
}
